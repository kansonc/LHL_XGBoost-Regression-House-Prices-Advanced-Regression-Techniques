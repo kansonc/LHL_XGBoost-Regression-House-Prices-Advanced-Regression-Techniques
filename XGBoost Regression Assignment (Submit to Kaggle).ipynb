{
 "cells": [
  {
   "cell_type": "markdown",
   "metadata": {},
   "source": [
    "# 1.0 Introduction and Imports"
   ]
  },
  {
   "cell_type": "markdown",
   "metadata": {},
   "source": [
    "## 1.1 Introduction"
   ]
  },
  {
   "cell_type": "markdown",
   "metadata": {},
   "source": [
    "This assignment is inspired by: \n",
    "\n",
    "- https://www.kaggle.com/code/carlmcbrideellis/an-introduction-to-xgboost-regression\n",
    "- https://www.kaggle.com/code/dansbecker/xgboost/notebook\n",
    "\n",
    "In this assignment we will apply XGBoost Regression techniques to predict house prices, based on the famous Kaggle Dataset https://www.kaggle.com/competitions/house-prices-advanced-regression-techniques\n",
    "\n",
    "Step 1 is to download the dataset."
   ]
  },
  {
   "cell_type": "markdown",
   "metadata": {},
   "source": [
    "## 1.2 Imports"
   ]
  },
  {
   "cell_type": "code",
   "execution_count": 106,
   "metadata": {
    "_cell_guid": "e7842527-0531-44fa-8ce0-ae4cc3cfd0d7",
    "_uuid": "365f3e96-c7a9-41cf-9c5f-76dbfd46168c",
    "execution": {
     "iopub.execute_input": "2022-10-17T08:49:03.875064Z",
     "iopub.status.busy": "2022-10-17T08:49:03.874451Z",
     "iopub.status.idle": "2022-10-17T08:49:03.951957Z",
     "shell.execute_reply": "2022-10-17T08:49:03.950940Z",
     "shell.execute_reply.started": "2022-10-17T08:49:03.874981Z"
    }
   },
   "outputs": [],
   "source": [
    "#=========================================================================\n",
    "# load up the libraries\n",
    "#=========================================================================\n",
    "import pandas  as pd\n",
    "import numpy   as np\n",
    "import xgboost as xgb\n",
    "import joblib\n",
    "from modules.preprocessing import (\n",
    "    filter_quantitative_columns\n",
    "    ,set_working_directory\n",
    "    ,extract_column_descriptions\n",
    "    ,print_column_descriptions\n",
    "    ,add_columns_to_dataframe\n",
    "    ,drop_columns_from_list\n",
    "    ,perform_anova\n",
    "    ,ordinal_hierarchy\n",
    "    ,ordinal_hierarchy_enforce\n",
    "    ,quant_cols_dtypes\n",
    "    ,one_hot_encoding\n",
    "    ,check_negative_values\n",
    "    ,replace_zeros_with_nan\n",
    "    ,replace_values_based_on_another_column\n",
    "    ,missing_columns_from_dataframes\n",
    "    ,convert_int64_to_float64\n",
    "    ,remove_outliers\n",
    "    ,data_clean\n",
    "    )\n",
    "\n",
    "#=========================================================================\n",
    "# Set the directory\n",
    "#=========================================================================\n",
    "set_working_directory()"
   ]
  },
  {
   "cell_type": "code",
   "execution_count": 2,
   "metadata": {},
   "outputs": [],
   "source": [
    "# Set Automatic reloading of imports and from ... imports\n",
    "%load_ext autoreload\n",
    "%autoreload 2"
   ]
  },
  {
   "cell_type": "code",
   "execution_count": 3,
   "metadata": {},
   "outputs": [],
   "source": [
    "# =========================================================================\n",
    "# read in the data\n",
    "# =========================================================================\n",
    "train_data = pd.read_csv(r'data/train.csv',index_col=0)\n",
    "test_data  = pd.read_csv(r'data/test.csv',index_col=0)"
   ]
  },
  {
   "cell_type": "markdown",
   "metadata": {},
   "source": [
    "### <center style=\"background-color:Gainsboro; width:60%;\">Feature selection</center>\n",
    "The purpose of feature selection, as the name suggests, is to only model the most pertinent and important features, thus reducing the computational overhead, and also to alleviate the [curse of dimensionality](https://en.wikipedia.org/wiki/Curse_of_dimensionality). The following are a number of notebooks covering techniques to achieve said goal, all of which use the House Prices data as an example:\n",
    "\n",
    "* [Feature selection using the Boruta-SHAP package](https://www.kaggle.com/carlmcbrideellis/feature-selection-using-the-boruta-shap-package)\n",
    "* [Recursive Feature Elimination (RFE) example](https://www.kaggle.com/carlmcbrideellis/recursive-feature-elimination-rfe-example)\n",
    "* [House Prices: Permutation Importance example](https://www.kaggle.com/carlmcbrideellis/house-prices-permutation-importance-example)\n",
    "* [Feature importance using the LASSO](https://www.kaggle.com/carlmcbrideellis/feature-importance-using-the-lasso)\n",
    "\n",
    "In this assignment, we shall use all of the numerical columns, and ignore the categorical features. To encode the categorical features one can use for example [pandas.get_dummies](https://pandas.pydata.org/pandas-docs/stable/reference/api/pandas.get_dummies.html). \n",
    "\n",
    "Our first task is to do Feature Exploration and Selection. "
   ]
  },
  {
   "cell_type": "markdown",
   "metadata": {},
   "source": [
    "# 2.0 Feature Exploration"
   ]
  },
  {
   "cell_type": "markdown",
   "metadata": {},
   "source": [
    "## 2.1 Quantitative Columns"
   ]
  },
  {
   "cell_type": "markdown",
   "metadata": {},
   "source": [
    "#### Identify Columns and confirm none excluded\n",
    "    Confirmed, no quantitative columns improperly excluded and categorical numeric identifier column removed"
   ]
  },
  {
   "cell_type": "code",
   "execution_count": 107,
   "metadata": {},
   "outputs": [
    {
     "name": "stdout",
     "output_type": "stream",
     "text": [
      "MSZoning: Identifies the general zoning classification of the sale. \n",
      " A\tAgriculture \n",
      " C\tCommercial \n",
      " FV\tFloating Village Residential \n",
      " I\tIndustrial \n",
      " RH\tResidential High Density \n",
      " RL\tResidential Low Density \n",
      " RP\tResidential Low Density Park \n",
      " RM\tResidential Medium Density\n",
      "\n",
      "Street: Type of road access to property \n",
      " Grvl\tGravel \n",
      " Pave\tPaved\n",
      "\n",
      "Alley: Type of alley access to property \n",
      " Grvl\tGravel \n",
      " Pave\tPaved \n",
      " NA \tNo alley access\n",
      "\n",
      "LotShape: General shape of property \n",
      " Reg\tRegular \n",
      " IR1\tSlightly irregular \n",
      " IR2\tModerately Irregular \n",
      " IR3\tIrregular\n",
      "\n",
      "LandContour: Flatness of the property \n",
      " Lvl\tNear Flat/Level \n",
      " Bnk\tBanked - Quick and significant rise from street grade to building \n",
      " HLS\tHillside - Significant slope from side to side \n",
      " Low\tDepression\n",
      "\n",
      "Utilities: Type of utilities available \n",
      " AllPub\tAll public Utilities (E,G,W,& S) \n",
      " NoSewr\tElectricity, Gas, and Water (Septic Tank) \n",
      " NoSeWa\tElectricity and Gas Only \n",
      " ELO\tElectricity only\n",
      "\n",
      "LotConfig: Lot configuration \n",
      " Inside\tInside lot \n",
      " Corner\tCorner lot \n",
      " CulDSac\tCul-de-sac \n",
      " FR2\tFrontage on 2 sides of property \n",
      " FR3\tFrontage on 3 sides of property\n",
      "\n",
      "LandSlope: Slope of property \n",
      " Gtl\tGentle slope \n",
      " Mod\tModerate Slope \n",
      " Sev\tSevere Slope\n",
      "\n",
      "Neighborhood: Physical locations within Ames city limits \n",
      " Blmngtn\tBloomington Heights \n",
      " Blueste\tBluestem \n",
      " BrDale\tBriardale \n",
      " BrkSide\tBrookside \n",
      " ClearCr\tClear Creek \n",
      " CollgCr\tCollege Creek \n",
      " Crawfor\tCrawford \n",
      " Edwards\tEdwards \n",
      " Gilbert\tGilbert \n",
      " IDOTRR\tIowa DOT and Rail Road \n",
      " MeadowV\tMeadow Village \n",
      " Mitchel\tMitchell \n",
      " Names\tNorth Ames \n",
      " NoRidge\tNorthridge \n",
      " NPkVill\tNorthpark Villa \n",
      " NridgHt\tNorthridge Heights \n",
      " NWAmes\tNorthwest Ames \n",
      " OldTown\tOld Town \n",
      " SWISU\tSouth & West of Iowa State University \n",
      " Sawyer\tSawyer \n",
      " SawyerW\tSawyer West \n",
      " Somerst\tSomerset \n",
      " StoneBr\tStone Brook \n",
      " Timber\tTimberland \n",
      " Veenker\tVeenker\n",
      "\n",
      "Condition1: Proximity to various conditions \n",
      " Artery\tAdjacent to arterial street \n",
      " Feedr\tAdjacent to feeder street \n",
      " Norm\tNormal \n",
      " RRNn\tWithin 200' of North-South Railroad \n",
      " RRAn\tAdjacent to North-South Railroad \n",
      " PosN\tNear positive off-site feature--park, greenbelt, etc. \n",
      " PosA\tAdjacent to postive off-site feature \n",
      " RRNe\tWithin 200' of East-West Railroad \n",
      " RRAe\tAdjacent to East-West Railroad\n",
      "\n",
      "Condition2: Proximity to various conditions (if more than one is present) \n",
      " Artery\tAdjacent to arterial street \n",
      " Feedr\tAdjacent to feeder street \n",
      " Norm\tNormal \n",
      " RRNn\tWithin 200' of North-South Railroad \n",
      " RRAn\tAdjacent to North-South Railroad \n",
      " PosN\tNear positive off-site feature--park, greenbelt, etc. \n",
      " PosA\tAdjacent to postive off-site feature \n",
      " RRNe\tWithin 200' of East-West Railroad \n",
      " RRAe\tAdjacent to East-West Railroad\n",
      "\n",
      "BldgType: Type of dwelling \n",
      " 1Fam\tSingle-family Detached \n",
      " 2FmCon\tTwo-family Conversion; originally built as one-family dwelling \n",
      " Duplx\tDuplex \n",
      " TwnhsE\tTownhouse End Unit \n",
      " TwnhsI\tTownhouse Inside Unit\n",
      "\n",
      "HouseStyle: Style of dwelling \n",
      " 1Story\tOne story\n",
      "\n",
      "RoofStyle: Type of roof \n",
      " Flat\tFlat \n",
      " Gable\tGable \n",
      " Gambrel\tGabrel (Barn) \n",
      " Hip\tHip \n",
      " Mansard\tMansard \n",
      " Shed\tShed\n",
      "\n",
      "RoofMatl: Roof material \n",
      " ClyTile\tClay or Tile \n",
      " CompShg\tStandard (Composite) Shingle \n",
      " Membran\tMembrane \n",
      " Metal\tMetal \n",
      " Roll\tRoll \n",
      " Tar&Grv\tGravel & Tar \n",
      " WdShake\tWood Shakes \n",
      " WdShngl\tWood Shingles\n",
      "\n",
      "Exterior1st: Exterior covering on house \n",
      " AsbShng\tAsbestos Shingles \n",
      " AsphShn\tAsphalt Shingles \n",
      " BrkComm\tBrick Common \n",
      " BrkFace\tBrick Face \n",
      " CBlock\tCinder Block \n",
      " CemntBd\tCement Board \n",
      " HdBoard\tHard Board \n",
      " ImStucc\tImitation Stucco \n",
      " MetalSd\tMetal Siding \n",
      " Other\tOther \n",
      " Plywood\tPlywood \n",
      " PreCast\tPreCast \n",
      " Stone\tStone \n",
      " Stucco\tStucco \n",
      " VinylSd\tVinyl Siding \n",
      " Wd Sdng\tWood Siding \n",
      " WdShing\tWood Shingles\n",
      "\n",
      "Exterior2nd: Exterior covering on house (if more than one material) \n",
      " AsbShng\tAsbestos Shingles \n",
      " AsphShn\tAsphalt Shingles \n",
      " BrkComm\tBrick Common \n",
      " BrkFace\tBrick Face \n",
      " CBlock\tCinder Block \n",
      " CemntBd\tCement Board \n",
      " HdBoard\tHard Board \n",
      " ImStucc\tImitation Stucco \n",
      " MetalSd\tMetal Siding \n",
      " Other\tOther \n",
      " Plywood\tPlywood \n",
      " PreCast\tPreCast \n",
      " Stone\tStone \n",
      " Stucco\tStucco \n",
      " VinylSd\tVinyl Siding \n",
      " Wd Sdng\tWood Siding \n",
      " WdShing\tWood Shingles\n",
      "\n",
      "MasVnrType: Masonry veneer type \n",
      " BrkCmn\tBrick Common \n",
      " BrkFace\tBrick Face \n",
      " CBlock\tCinder Block \n",
      " None\tNone \n",
      " Stone\tStone\n",
      "\n",
      "ExterQual: Evaluates the quality of the material on the exterior \n",
      " Ex\tExcellent \n",
      " Gd\tGood \n",
      " TA\tAverage/Typical \n",
      " Fa\tFair \n",
      " Po\tPoor\n",
      "\n",
      "ExterCond: Evaluates the present condition of the material on the exterior \n",
      " Ex\tExcellent \n",
      " Gd\tGood \n",
      " TA\tAverage/Typical \n",
      " Fa\tFair \n",
      " Po\tPoor\n",
      "\n",
      "Foundation: Type of foundation \n",
      " BrkTil\tBrick & Tile \n",
      " CBlock\tCinder Block \n",
      " PConc\tPoured Contrete \n",
      " Slab\tSlab \n",
      " Stone\tStone \n",
      " Wood\tWood\n",
      "\n",
      "BsmtQual: Evaluates the height of the basement \n",
      " Ex\tExcellent (100+ inches) \n",
      " Gd\tGood (90-99 inches) \n",
      " TA\tTypical (80-89 inches) \n",
      " Fa\tFair (70-79 inches) \n",
      " Po\tPoor (<70 inches \n",
      " NA\tNo Basement\n",
      "\n",
      "BsmtCond: Evaluates the general condition of the basement \n",
      " Ex\tExcellent \n",
      " Gd\tGood \n",
      " TA\tTypical - slight dampness allowed \n",
      " Fa\tFair - dampness or some cracking or settling \n",
      " Po\tPoor - Severe cracking, settling, or wetness \n",
      " NA\tNo Basement\n",
      "\n",
      "BsmtExposure: Refers to walkout or garden level walls \n",
      " Gd\tGood Exposure \n",
      " Av\tAverage Exposure (split levels or foyers typically score average or above) \n",
      " Mn\tMimimum Exposure \n",
      " No\tNo Exposure \n",
      " NA\tNo Basement\n",
      "\n",
      "BsmtFinType1: Rating of basement finished area \n",
      " GLQ\tGood Living Quarters \n",
      " ALQ\tAverage Living Quarters \n",
      " BLQ\tBelow Average Living Quarters \n",
      " Rec\tAverage Rec Room \n",
      " LwQ\tLow Quality \n",
      " Unf\tUnfinshed \n",
      " NA\tNo Basement\n",
      "\n",
      "BsmtFinType2: Rating of basement finished area (if multiple types) \n",
      " GLQ\tGood Living Quarters \n",
      " ALQ\tAverage Living Quarters \n",
      " BLQ\tBelow Average Living Quarters \n",
      " Rec\tAverage Rec Room \n",
      " LwQ\tLow Quality \n",
      " Unf\tUnfinshed \n",
      " NA\tNo Basement\n",
      "\n",
      "Heating: Type of heating \n",
      " Floor\tFloor Furnace \n",
      " GasA\tGas forced warm air furnace \n",
      " GasW\tGas hot water or steam heat \n",
      " Grav\tGravity furnace \n",
      " OthW\tHot water or steam heat other than gas \n",
      " Wall\tWall furnace\n",
      "\n",
      "HeatingQC: Heating quality and condition \n",
      " Ex\tExcellent \n",
      " Gd\tGood \n",
      " TA\tAverage/Typical \n",
      " Fa\tFair \n",
      " Po\tPoor\n",
      "\n",
      "CentralAir: Central air conditioning \n",
      " N\tNo \n",
      " Y\tYes\n",
      "\n",
      "Electrical: Electrical system \n",
      " SBrkr\tStandard Circuit Breakers & Romex \n",
      " FuseA\tFuse Box over 60 AMP and all Romex wiring (Average) \n",
      " FuseF\t60 AMP Fuse Box and mostly Romex wiring (Fair) \n",
      " FuseP\t60 AMP Fuse Box and mostly knob & tube wiring (poor) \n",
      " Mix\tMixed\n",
      "\n",
      "KitchenQual: Kitchen quality \n",
      " Ex\tExcellent \n",
      " Gd\tGood \n",
      " TA\tTypical/Average \n",
      " Fa\tFair \n",
      " Po\tPoor\n",
      "\n",
      "Functional: Home functionality (Assume typical unless deductions are warranted) \n",
      " Typ\tTypical Functionality \n",
      " Min1\tMinor Deductions 1 \n",
      " Min2\tMinor Deductions 2 \n",
      " Mod\tModerate Deductions \n",
      " Maj1\tMajor Deductions 1 \n",
      " Maj2\tMajor Deductions 2 \n",
      " Sev\tSeverely Damaged \n",
      " Sal\tSalvage only\n",
      "\n",
      "FireplaceQu: Fireplace quality \n",
      " Ex\tExcellent - Exceptional Masonry Fireplace \n",
      " Gd\tGood - Masonry Fireplace in main level \n",
      " TA\tAverage - Prefabricated Fireplace in main living area or Masonry Fireplace in basement \n",
      " Fa\tFair - Prefabricated Fireplace in basement \n",
      " Po\tPoor - Ben Franklin Stove \n",
      " NA\tNo Fireplace\n",
      "\n",
      "GarageType: Garage location \n",
      " 2Types\tMore than one type of garage \n",
      " Attchd\tAttached to home \n",
      " Basment\tBasement Garage \n",
      " BuiltIn\tBuilt-In (Garage part of house - typically has room above garage) \n",
      " CarPort\tCar Port \n",
      " Detchd\tDetached from home \n",
      " NA\tNo Garage\n",
      "\n",
      "GarageFinish: Interior finish of the garage \n",
      " Fin\tFinished \n",
      " RFn\tRough Finished \n",
      " Unf\tUnfinished \n",
      " NA\tNo Garage\n",
      "\n",
      "GarageQual: Garage quality \n",
      " Ex\tExcellent \n",
      " Gd\tGood \n",
      " TA\tTypical/Average \n",
      " Fa\tFair \n",
      " Po\tPoor \n",
      " NA\tNo Garage\n",
      "\n",
      "GarageCond: Garage condition \n",
      " Ex\tExcellent \n",
      " Gd\tGood \n",
      " TA\tTypical/Average \n",
      " Fa\tFair \n",
      " Po\tPoor \n",
      " NA\tNo Garage\n",
      "\n",
      "PavedDrive: Paved driveway \n",
      " Y\tPaved \n",
      " P\tPartial Pavement \n",
      " N\tDirt/Gravel\n",
      "\n",
      "PoolQC: Pool quality \n",
      " Ex\tExcellent \n",
      " Gd\tGood \n",
      " TA\tAverage/Typical \n",
      " Fa\tFair \n",
      " NA\tNo Pool\n",
      "\n",
      "Fence: Fence quality \n",
      " GdPrv\tGood Privacy \n",
      " MnPrv\tMinimum Privacy \n",
      " GdWo\tGood Wood \n",
      " MnWw\tMinimum Wood/Wire \n",
      " NA\tNo Fence\n",
      "\n",
      "MiscFeature: Miscellaneous feature not covered in other categories \n",
      " Elev\tElevator \n",
      " Gar2\t2nd Garage (if not described in garage section) \n",
      " Othr\tOther \n",
      " Shed\tShed (over 100 SF) \n",
      " TenC\tTennis Court \n",
      " NA\tNone\n",
      "\n",
      "SaleType: Type of sale \n",
      " WD \tWarranty Deed - Conventional \n",
      " CWD\tWarranty Deed - Cash \n",
      " VWD\tWarranty Deed - VA Loan \n",
      " New\tHome just constructed and sold \n",
      " COD\tCourt Officer Deed/Estate \n",
      " Con\tContract 15% Down payment regular terms \n",
      " ConLw\tContract Low Down payment and low interest \n",
      " ConLI\tContract Low Interest \n",
      " ConLD\tContract Low Down \n",
      " Oth\tOther\n",
      "\n",
      "SaleCondition: Condition of sale \n",
      " Normal\tNormal Sale \n",
      " Abnorml\tAbnormal Sale -  trade, foreclosure, short sale \n",
      " AdjLand\tAdjoining Land Purchase \n",
      " Alloca\tAllocation - two linked properties with separate deeds, typically condo with a garage unit \n",
      " Family\tSale between family members \n",
      " Partial\tHome was not completed when last assessed (associated with New Homes)\n",
      "\n"
     ]
    }
   ],
   "source": [
    "# Run Function from preprocessing module \n",
    "quantitative_columns_df, qualitative_columns = filter_quantitative_columns(train_data)\n",
    "\n",
    "# Print Ommitted Columns and descriptions\n",
    "print_column_descriptions(qualitative_columns)"
   ]
  },
  {
   "cell_type": "code",
   "execution_count": 5,
   "metadata": {},
   "outputs": [
    {
     "name": "stdout",
     "output_type": "stream",
     "text": [
      "MSSubClass: Identifies the type of dwelling involved in the sale. \n",
      " 20\t1-STORY 1946 & NEWER ALL STYLES \n",
      " 30\t1-STORY 1945 & OLDER \n",
      " 40\t1-STORY W/FINISHED ATTIC ALL AGES \n",
      " 45\t1-1/2 STORY - UNFINISHED ALL AGES \n",
      " 50\t1-1/2 STORY FINISHED ALL AGES \n",
      " 60\t2-STORY 1946 & NEWER \n",
      " 70\t2-STORY 1945 & OLDER \n",
      " 75\t2-1/2 STORY ALL AGES \n",
      " 80\tSPLIT OR MULTI-LEVEL \n",
      " 85\tSPLIT FOYER \n",
      " 90\tDUPLEX - ALL STYLES AND AGES \n",
      " 120\t1-STORY PUD (Planned Unit Development) - 1946 & NEWER \n",
      " 150\t1-1/2 STORY PUD - ALL AGES \n",
      " 160\t2-STORY PUD - 1946 & NEWER \n",
      " 180\tPUD - MULTILEVEL - INCL SPLIT LEV/FOYER \n",
      " 190\t2 FAMILY CONVERSION - ALL STYLES AND AGES\n",
      "\n",
      "OverallQual: Rates the overall material and finish of the house \n",
      " 10\tVery Excellent \n",
      " 9\tExcellent \n",
      " 8\tVery Good \n",
      " 7\tGood \n",
      " 6\tAbove Average \n",
      " 5\tAverage \n",
      " 4\tBelow Average \n",
      " 3\tFair \n",
      " 2\tPoor \n",
      " 1\tVery Poor\n",
      "\n",
      "OverallCond: Rates the overall condition of the house \n",
      " 10\tVery Excellent \n",
      " 9\tExcellent \n",
      " 8\tVery Good \n",
      " 7\tGood \n",
      " 6\tAbove Average \n",
      " 5\tAverage \n",
      " 4\tBelow Average \n",
      " 3\tFair \n",
      " 2\tPoor \n",
      " 1\tVery Poor\n",
      "\n"
     ]
    }
   ],
   "source": [
    "# retrieve column descriptions\n",
    "output_quant = extract_column_descriptions(list(quantitative_columns_df.columns))\n",
    "\n",
    "# Isolate Ordinal-Hierarchal Columns to confirm for removal\n",
    "ordinal_cols_description_dict = {key: value for key, value in output_quant.items() if '\\n' in value}\n",
    "\n",
    "# Print descriptions\n",
    "print_column_descriptions(list(ordinal_cols_description_dict))"
   ]
  },
  {
   "cell_type": "markdown",
   "metadata": {},
   "source": [
    "#### Store Columns and Dtypes Function"
   ]
  },
  {
   "cell_type": "code",
   "execution_count": 6,
   "metadata": {},
   "outputs": [],
   "source": [
    "quant_cols_dtypes(quantitative_columns_df)"
   ]
  },
  {
   "cell_type": "markdown",
   "metadata": {},
   "source": [
    "#### Confirm if any quant columns have negative numbers"
   ]
  },
  {
   "cell_type": "code",
   "execution_count": null,
   "metadata": {},
   "outputs": [],
   "source": [
    "# Get columns names with negative values\n",
    "quant_no_neg_df = check_negative_values(quantitative_columns_df)"
   ]
  },
  {
   "cell_type": "markdown",
   "metadata": {},
   "source": [
    "#### Declare Columns (User Input)\n"
   ]
  },
  {
   "cell_type": "code",
   "execution_count": 7,
   "metadata": {},
   "outputs": [
    {
     "data": {
      "text/plain": [
       "['modules/joblib_preprocessing/add_quant_cols_list.joblib']"
      ]
     },
     "execution_count": 7,
     "metadata": {},
     "output_type": "execute_result"
    }
   ],
   "source": [
    "# Columns to remove based on previous descriptions above\n",
    "drop_quant_cols_list = ['MSSubClass']\n",
    "# Save data to a file using joblib\n",
    "joblib.dump(drop_quant_cols_list, 'modules/joblib_preprocessing/drop_quant_cols_list.joblib')\n",
    "\n",
    "# Quantitative Columns to add (not ordinal) based on previous descriptions above\n",
    "add_quant_cols_list = []\n",
    "# Save data to a file using joblib\n",
    "joblib.dump(add_quant_cols_list, 'modules/joblib_preprocessing/add_quant_cols_list.joblib')"
   ]
  },
  {
   "cell_type": "markdown",
   "metadata": {},
   "source": [
    "#### Apply Drop/Add Columns functions"
   ]
  },
  {
   "cell_type": "code",
   "execution_count": 8,
   "metadata": {},
   "outputs": [],
   "source": [
    "# Apply the functions\n",
    "quant_drop_df = drop_columns_from_list(quant_no_neg_df, drop_quant_cols_list)\n",
    "quant_add_df = add_columns_to_dataframe(train_data, quant_no_neg_df, add_quant_cols_list)"
   ]
  },
  {
   "cell_type": "markdown",
   "metadata": {},
   "source": [
    "## 2.2 Ordinal Columns\n",
    "#### Declare Columns (User Input)"
   ]
  },
  {
   "cell_type": "code",
   "execution_count": 9,
   "metadata": {},
   "outputs": [
    {
     "data": {
      "text/plain": [
       "['modules/joblib_preprocessing/ordinal_quant_columns_to_coerce.joblib']"
      ]
     },
     "execution_count": 9,
     "metadata": {},
     "output_type": "execute_result"
    }
   ],
   "source": [
    "# Provide columns not part of the quantitative columns to obtain ordinal data from\n",
    "ordinal_cols_to_transform_list = [           \n",
    "    ['PoolQC', {\n",
    "        'NA': '0',\n",
    "        'Fa': '1',\n",
    "        'TA': '2',\n",
    "        'Gd': '3',\n",
    "        'Ex': '4'}]\n",
    "    ,['GarageQual', {\n",
    "        'NA': '0',\n",
    "        'Po': '1',\n",
    "        'Fa': '2',\n",
    "        'TA': '3',\n",
    "        'Gd': '4',\n",
    "        'Ex': '5'}]\n",
    "    ,['GarageCond', {\n",
    "        'NA': '0',\n",
    "        'Po': '1',\n",
    "        'Fa': '2',\n",
    "        'TA': '3',\n",
    "        'Gd': '4',\n",
    "        'Ex': '5'}]\n",
    "    ,['KitchenQual', {\n",
    "        'NA': '0',\n",
    "        'Fa': '1',\n",
    "        'TA': '2',\n",
    "        'Gd': '3',\n",
    "        'Ex': '4'}]\n",
    "    ,['HeatingQC', {\n",
    "        'NA': '0',\n",
    "        'Fa': '1',\n",
    "        'TA': '2',\n",
    "        'Gd': '3',\n",
    "        'Ex': '4'}]\n",
    "    ,['BsmtCond', {\n",
    "        'NA': '0',\n",
    "        'Po': '1',\n",
    "        'Fa': '2',\n",
    "        'TA': '3',\n",
    "        'Gd': '4',\n",
    "        'Ex': '5'}]\n",
    "    ,['BsmtQual', {\n",
    "        'NA': '0',\n",
    "        'Po': '1',\n",
    "        'Fa': '2',\n",
    "        'TA': '3',\n",
    "        'Gd': '4',\n",
    "        'Ex': '5'}]\n",
    "    ,['ExterCond', {\n",
    "        'Po': '1',\n",
    "        'Fa': '2',\n",
    "        'TA': '3',\n",
    "        'Gd': '4',\n",
    "        'Ex': '5'}]\n",
    "    ,['ExterQual', {\n",
    "        'Po': '1',\n",
    "        'Fa': '2',\n",
    "        'TA': '3',\n",
    "        'Gd': '4',\n",
    "        'Ex': '5'}]\n",
    "    ,['Fence', {\n",
    "        'NA': '0',\n",
    "        'MnWw': '1',\n",
    "        'GdWo': '2',\n",
    "        'MnPrv': '3',\n",
    "        'GdPrv': '4'}]\n",
    "    # This is not ordinal, but replaces true and false with 0 and 1\n",
    "    ,['CentralAir',{\n",
    "        'Y': '1',\n",
    "        'y': '1',\n",
    "        'N': '0',\n",
    "        'n': '0'}]\n",
    "]\n",
    "# Save data to a file using joblib\n",
    "joblib.dump(ordinal_cols_to_transform_list, 'modules/joblib_preprocessing/ordinal_cols_to_transform_list.joblib')\n",
    "\n",
    "# Specify ordinal columns to clean\n",
    "ordinal_quant_columns_to_coerce = [\n",
    "    [\"OverallQual\",{\n",
    "        'low': 1, \n",
    "        'high': 10}],\n",
    "    [\"OverallCond\",{\n",
    "        'low': 1, \n",
    "        'high': 10}]\n",
    "]\n",
    "\n",
    "# Save data to a file using joblib\n",
    "joblib.dump(ordinal_quant_columns_to_coerce, 'modules/joblib_preprocessing/ordinal_quant_columns_to_coerce.joblib')\n"
   ]
  },
  {
   "cell_type": "markdown",
   "metadata": {},
   "source": [
    "#### Apply Ordinal Transformation functions"
   ]
  },
  {
   "cell_type": "code",
   "execution_count": 10,
   "metadata": {},
   "outputs": [],
   "source": [
    "ordinal_trans_df = ordinal_hierarchy(train_data, quant_add_df, ordinal_cols_to_transform_list)\n",
    "quant_df = ordinal_hierarchy_enforce(ordinal_trans_df, ordinal_quant_columns_to_coerce)"
   ]
  },
  {
   "cell_type": "markdown",
   "metadata": {},
   "source": [
    "## 2.3 One-Hot Encoding\n"
   ]
  },
  {
   "cell_type": "markdown",
   "metadata": {},
   "source": [
    "#### Identify statistically significant categories"
   ]
  },
  {
   "cell_type": "code",
   "execution_count": 113,
   "metadata": {},
   "outputs": [
    {
     "name": "stdout",
     "output_type": "stream",
     "text": [
      "ExterCond: \n",
      "    Passed the ANOVA p-value significance check, \n",
      "    Passed the homogeneity of variances check (Levene's Test), \n",
      "    Normality test (Shapiro-Wilk test for residuals) for each category within ExterCond are:\n",
      "TA: NO, residuals are not normally distributed (1282 values)\n",
      "Gd: NO, residuals are not normally distributed (146 values)\n",
      "Fa: YES, residuals are normally distributed (28 values)\n",
      "Po: NA, normality cannot be calculated (has less than 3 values)\n",
      "Ex: YES, residuals are normally distributed (3 values)\n",
      "\n",
      "LotConfig: \n",
      "    Passed the ANOVA p-value significance check, \n",
      "    Passed the homogeneity of variances check (Levene's Test), \n",
      "    Normality test (Shapiro-Wilk test for residuals) for each category within LotConfig are:\n",
      "Inside: NO, residuals are not normally distributed (1052 values)\n",
      "FR2: NO, residuals are not normally distributed (47 values)\n",
      "Corner: NO, residuals are not normally distributed (263 values)\n",
      "CulDSac: NO, residuals are not normally distributed (94 values)\n",
      "FR3: YES, residuals are normally distributed (4 values)\n",
      "\n",
      "Heating: \n",
      "    Passed the ANOVA p-value significance check, \n",
      "    Passed the homogeneity of variances check (Levene's Test), \n",
      "    Normality test (Shapiro-Wilk test for residuals) for each category within Heating are:\n",
      "GasA: NO, residuals are not normally distributed (1428 values)\n",
      "GasW: NO, residuals are not normally distributed (18 values)\n",
      "Grav: YES, residuals are normally distributed (7 values)\n",
      "Wall: YES, residuals are normally distributed (4 values)\n",
      "OthW: NA, normality cannot be calculated (has less than 3 values)\n",
      "Floor: NA, normality cannot be calculated (has less than 3 values)\n",
      "\n",
      "Condition2: \n",
      "    Passed the ANOVA p-value significance check, \n",
      "    Passed the homogeneity of variances check (Levene's Test), \n",
      "    Normality test (Shapiro-Wilk test for residuals) for each category within Condition2 are:\n",
      "Norm: NO, residuals are not normally distributed (1445 values)\n",
      "Artery: NA, normality cannot be calculated (has less than 3 values)\n",
      "RRNn: NA, normality cannot be calculated (has less than 3 values)\n",
      "Feedr: YES, residuals are normally distributed (6 values)\n",
      "PosN: NA, normality cannot be calculated (has less than 3 values)\n",
      "PosA: NA, normality cannot be calculated (has less than 3 values)\n",
      "RRAn: NA, normality cannot be calculated (has less than 3 values)\n",
      "RRAe: NA, normality cannot be calculated (has less than 3 values)\n",
      "\n"
     ]
    }
   ],
   "source": [
    "# taking the qualitative categories, perform ANOVA\n",
    "perform_anova(train_data, 'SalePrice', qualitative_columns)\n"
   ]
  },
  {
   "cell_type": "markdown",
   "metadata": {},
   "source": [
    "    Therefore, there are no qualitative columns in this dataset with values that vary significantly.  "
   ]
  },
  {
   "cell_type": "code",
   "execution_count": 114,
   "metadata": {},
   "outputs": [
    {
     "name": "stdout",
     "output_type": "stream",
     "text": [
      "T-Test for TA: 0.02921062767281185\n",
      "T-Test for Fa: 7.224793328405117e-07\n",
      "T-Test for Gd: 0.10148595839398249\n",
      "T-Test for nan: nan\n",
      "T-Test for Ex: 0.1925677598657892\n",
      "T-Test for Po: 0.07864770077543194\n",
      "T-Test for Gtl: 0.7452091974502161\n",
      "T-Test for Mod: 0.11926997450963012\n",
      "T-Test for Sev: 0.28971830321372455\n",
      "T-Test for Gd: 1.1969755602031846e-34\n",
      "T-Test for TA: 3.560641349209206e-36\n",
      "T-Test for Ex: 2.9995195240289567e-55\n",
      "T-Test for Fa: 1.3246016141413432e-05\n",
      "T-Test for nan: nan\n",
      "T-Test for MnPrv: 1.0830282821505761e-06\n",
      "T-Test for GdWo: 0.00020785893527828483\n",
      "T-Test for GdPrv: 0.8487203942446728\n",
      "T-Test for MnWw: 0.05187081651413594\n",
      "T-Test for Reg: 4.177584930995696e-07\n",
      "T-Test for IR1: 3.782162116767403e-09\n",
      "T-Test for IR2: 3.65280134953491e-06\n",
      "T-Test for IR3: 0.1639234750452634\n",
      "T-Test for 2Story: 4.8863701419527573e-11\n",
      "T-Test for 1Story: 0.16719328956896062\n",
      "T-Test for 1.5Fin: 9.802786306686038e-09\n",
      "T-Test for 1.5Unf: 0.0008859065147506568\n",
      "T-Test for SFoyer: 0.00047378447031934374\n",
      "T-Test for SLvl: 0.15144998515121227\n",
      "T-Test for 2.5Unf: 0.3265718821977778\n",
      "T-Test for 2.5Fin: 0.16671027101327687\n",
      "T-Test for PConc: 1.379008626176408e-29\n",
      "T-Test for CBlock: 1.2655682478808221e-19\n",
      "T-Test for BrkTil: 7.615549730643971e-13\n",
      "T-Test for Wood: 0.917666003680052\n",
      "T-Test for Slab: 6.436229458841389e-06\n",
      "T-Test for Stone: 0.6452946478292838\n",
      "T-Test for WD: 0.009725443441872268\n",
      "T-Test for New: 5.628584364509472e-33\n",
      "T-Test for COD: 0.0024587721819141753\n",
      "T-Test for ConLD: 0.11231871456898943\n",
      "T-Test for ConLI: 0.5856251227686096\n",
      "T-Test for CWD: 0.4557781886698318\n",
      "T-Test for ConLw: 0.2956047322982084\n",
      "T-Test for Con: 0.11487666819855172\n",
      "T-Test for Oth: 0.18341718777630628\n",
      "T-Test for Ex: 1.10404921994855e-19\n",
      "T-Test for Gd: 6.071282130319009e-06\n",
      "T-Test for TA: 3.614190053058755e-21\n",
      "T-Test for Fa: 6.799190296485834e-07\n",
      "T-Test for Po: 0.2374581837582173\n",
      "T-Test for Gd: 9.234715810627397e-10\n",
      "T-Test for TA: 1.2788673172671228e-32\n",
      "T-Test for Ex: 9.565586908029867e-71\n",
      "T-Test for nan: nan\n",
      "T-Test for Fa: 1.395029837777269e-06\n",
      "T-Test for TA: 0.30694919232262124\n",
      "T-Test for Gd: 0.079144916764244\n",
      "T-Test for Fa: 2.2328101934155324e-07\n",
      "T-Test for Po: 0.1890612100798682\n",
      "T-Test for Ex: 0.6568844479418836\n",
      "T-Test for Typ: 0.40391436438346673\n",
      "T-Test for Min1: 0.015900294345776757\n",
      "T-Test for Maj1: 0.2056199242938379\n",
      "T-Test for Min2: 0.007371468131452385\n",
      "T-Test for Mod: 0.5458757528573863\n",
      "T-Test for Maj2: 0.007532974015879055\n",
      "T-Test for Sev: 0.5136363315805554\n",
      "T-Test for RFn: 5.555476961956105e-07\n",
      "T-Test for Unf: 1.8961691195330909e-28\n",
      "T-Test for Fin: 7.05664610352705e-32\n",
      "T-Test for nan: nan\n",
      "T-Test for RL: 0.0014071741341453667\n",
      "T-Test for RM: 2.1399838049602706e-22\n",
      "T-Test for C (all): 2.467557748886799e-05\n",
      "T-Test for FV: 0.0009024928153331168\n",
      "T-Test for RH: 0.013173548087985983\n",
      "T-Test for Lvl: 0.806167093049581\n",
      "T-Test for Bnk: 0.0001859551392387244\n",
      "T-Test for Low: 0.09040438763505891\n",
      "T-Test for HLS: 1.2442744159617119e-05\n",
      "T-Test for Attchd: 8.193899292522862e-11\n",
      "T-Test for Detchd: 3.2749318944856e-28\n",
      "T-Test for BuiltIn: 1.99214165648163e-16\n",
      "T-Test for CarPort: 0.0074884094955254875\n",
      "T-Test for nan: nan\n",
      "T-Test for Basment: 0.26640787038291763\n",
      "T-Test for 2Types: 0.36127412178347895\n",
      "T-Test for nan: nan\n",
      "T-Test for Shed: 0.009383821153782603\n",
      "T-Test for Gar2: 0.8563961093844265\n",
      "T-Test for Othr: 0.12218541629538024\n",
      "T-Test for TenC: 0.38485500413932616\n",
      "T-Test for Inside: 0.2079356416778638\n",
      "T-Test for FR2: 0.7986394744832412\n",
      "T-Test for Corner: 0.8960536652664672\n",
      "T-Test for CulDSac: 5.680911799445177e-07\n",
      "T-Test for FR3: 0.4885766296443107\n",
      "T-Test for Y: 0.06708376253587181\n",
      "T-Test for N: 1.2067292548215605e-14\n",
      "T-Test for P: 0.0008488946311390136\n",
      "T-Test for Pave: 0.9433050902964719\n",
      "T-Test for Grvl: 0.1185376944420388\n",
      "T-Test for Gable: 0.0012602357695384392\n",
      "T-Test for Hip: 9.291452811171198e-12\n",
      "T-Test for Gambrel: 0.18281466101667734\n",
      "T-Test for Mansard: 0.9906412779688512\n",
      "T-Test for Flat: 0.5333083027784706\n",
      "T-Test for Shed: 0.4329877036237547\n",
      "T-Test for AllPub: 0.9919272065304323\n",
      "T-Test for NoSeWa: 0.5848836382903604\n",
      "T-Test for SBrkr: 0.050416723733531926\n",
      "T-Test for FuseF: 1.8993208750902691e-06\n",
      "T-Test for FuseA: 1.7112871770149183e-12\n",
      "T-Test for FuseP: 0.06872454212800748\n",
      "T-Test for Mix: 0.15192431716796542\n",
      "T-Test for nan: nan\n",
      "T-Test for CollgCr: 0.01018385753173588\n",
      "T-Test for Veenker: 0.016181449351457825\n",
      "T-Test for Crawfor: 0.008484843363416176\n",
      "T-Test for NoRidge: 5.033124004403144e-32\n",
      "T-Test for Mitchel: 0.030627635542141297\n",
      "T-Test for Somerst: 3.543189271289844e-07\n",
      "T-Test for NWAmes: 0.3848183949503009\n",
      "T-Test for OldTown: 5.98750532186208e-12\n",
      "T-Test for BrkSide: 1.0242209585489421e-07\n",
      "T-Test for Sawyer: 2.0429754658328964e-06\n",
      "T-Test for NridgHt: 3.267004733888648e-44\n",
      "T-Test for NAmes: 8.433755196378868e-11\n",
      "T-Test for SawyerW: 0.589696455405138\n",
      "T-Test for IDOTRR: 8.717664798185486e-10\n",
      "T-Test for MeadowV: 2.0772323801877577e-05\n",
      "T-Test for Edwards: 7.004883516537572e-11\n",
      "T-Test for Timber: 2.6112807985967867e-06\n",
      "T-Test for Gilbert: 0.18455639754131678\n",
      "T-Test for StoneBr: 2.1199643528524672e-15\n",
      "T-Test for ClearCr: 0.03595784842249174\n",
      "T-Test for NPkVill: 0.14922857298536596\n",
      "T-Test for Blmngtn: 0.4696882031445778\n",
      "T-Test for BrDale: 0.00012505091325586156\n",
      "T-Test for SWISU: 0.016148839132613016\n",
      "T-Test for Blueste: 0.43982935807944656\n",
      "T-Test for Normal: 0.05122060526516408\n",
      "T-Test for Abnorml: 2.865064468958543e-05\n",
      "T-Test for Partial: 6.912313094692407e-32\n",
      "T-Test for AdjLand: 0.053490297281345564\n",
      "T-Test for Alloca: 0.5567033644497295\n",
      "T-Test for Family: 0.07887562973750631\n",
      "T-Test for GasA: 0.709585774816059\n",
      "T-Test for GasW: 0.4482459327733387\n",
      "T-Test for Grav: 0.00045068243323626196\n",
      "T-Test for Wall: 0.02554532740356074\n",
      "T-Test for OthW: 0.3263584788527403\n",
      "T-Test for Floor: 0.1726808829220017\n",
      "T-Test for CompShg: 0.7021643250029783\n",
      "T-Test for WdShngl: 2.3942767560415995e-10\n",
      "T-Test for Metal: 0.990752883996322\n",
      "T-Test for WdShake: 0.08911180398320709\n",
      "T-Test for Membran: 0.44601133296082374\n",
      "T-Test for Tar&Grv: 0.8518798799722855\n",
      "T-Test for Roll: 0.5805682493479449\n",
      "T-Test for ClyTile: 0.7923873462509183\n",
      "T-Test for TA: 0.020647795999713506\n",
      "T-Test for Fa: 9.55154327697002e-07\n",
      "T-Test for nan: nan\n",
      "T-Test for Gd: 0.9702110100345398\n",
      "T-Test for Po: 0.016044781236888718\n",
      "T-Test for Ex: 0.3112529583812878\n",
      "T-Test for TA: 0.3699916669947858\n",
      "T-Test for Gd: 0.0011541107035393234\n",
      "T-Test for nan: nan\n",
      "T-Test for Fa: 7.558550265295212e-07\n",
      "T-Test for Po: 0.037636695508797786\n",
      "T-Test for Y: 0.07728996326509734\n",
      "T-Test for N: 1.0969908978416304e-19\n",
      "T-Test for nan: nan\n",
      "T-Test for Ex: 5.532261908426642e-08\n",
      "T-Test for Fa: 0.5384707231304866\n",
      "T-Test for Gd: 0.6463048060514638\n",
      "T-Test for GLQ: 2.002993252168422e-31\n",
      "T-Test for ALQ: 0.0004678438786265398\n",
      "T-Test for Unf: 0.016620170879966752\n",
      "T-Test for Rec: 1.237908116908556e-06\n",
      "T-Test for BLQ: 2.4709931539299856e-06\n",
      "T-Test for nan: nan\n",
      "T-Test for LwQ: 0.0018737526350717014\n",
      "T-Test for Norm: 0.24706571786715492\n",
      "T-Test for Feedr: 1.653274985193501e-05\n",
      "T-Test for PosN: 0.06146474621838458\n",
      "T-Test for Artery: 8.124520291095904e-05\n",
      "T-Test for RRAe: 0.07626181980656188\n",
      "T-Test for RRNn: 0.37681796826319136\n",
      "T-Test for RRAn: 0.8245919052854385\n",
      "T-Test for PosA: 0.1101908609155023\n",
      "T-Test for RRNe: 0.861174927469231\n",
      "T-Test for VinylSd: 7.424857847856681e-16\n",
      "T-Test for MetalSd: 3.553583750341335e-08\n",
      "T-Test for Wd Shng: 0.13481943936113397\n",
      "T-Test for HdBoard: 0.022798707649716147\n",
      "T-Test for Plywood: 0.05905203326613352\n",
      "T-Test for Wd Sdng: 3.530157774892205e-08\n",
      "T-Test for CmentBd: 4.610554848251785e-06\n",
      "T-Test for BrkFace: 0.35437927543989167\n",
      "T-Test for Stucco: 0.11136193505109421\n",
      "T-Test for AsbShng: 0.0001795917897723648\n",
      "T-Test for Brk Cmn: 0.07146594951613205\n",
      "T-Test for ImStucc: 0.005489776407218843\n",
      "T-Test for AsphShn: 0.349772789351098\n",
      "T-Test for Stone: 0.5235352749183275\n",
      "T-Test for Other: 0.0825095412706693\n",
      "T-Test for CBlock: 0.3395601754781814\n",
      "T-Test for nan: nan\n",
      "T-Test for Grvl: 2.1886256988038375e-07\n",
      "T-Test for Pave: 0.29954919831773813\n",
      "T-Test for Gd: 4.786359149494602e-17\n",
      "T-Test for TA: 2.3623277885878305e-38\n",
      "T-Test for Ex: 2.721392357934247e-61\n",
      "T-Test for Fa: 4.32914815124972e-09\n",
      "T-Test for Unf: 0.22214452363901355\n",
      "T-Test for BLQ: 0.03178197481238128\n",
      "T-Test for nan: nan\n",
      "T-Test for ALQ: 0.11547099815883459\n",
      "T-Test for Rec: 0.1430698759993367\n",
      "T-Test for LwQ: 0.15973105654809122\n",
      "T-Test for GLQ: 0.997717513173548\n",
      "T-Test for No: 4.777288923077737e-07\n",
      "T-Test for Gd: 1.143814176626102e-23\n",
      "T-Test for Mn: 0.12396405800627971\n",
      "T-Test for Av: 1.0724327893440687e-05\n",
      "T-Test for nan: nan\n",
      "T-Test for nan: nan\n",
      "T-Test for TA: 3.766452982969492e-07\n",
      "T-Test for Gd: 2.0478121801248342e-21\n",
      "T-Test for Fa: 0.32589343772518387\n",
      "T-Test for Ex: 9.164638671319491e-21\n",
      "T-Test for Po: 0.004085132918688644\n",
      "T-Test for BrkFace: 4.3842790081449646e-08\n",
      "T-Test for nan: nan\n",
      "T-Test for Stone: 1.5585725618324593e-28\n",
      "T-Test for BrkCmn: 0.09245579044574542\n",
      "T-Test for Norm: 0.9328606984484067\n",
      "T-Test for Artery: 0.18559285784415203\n",
      "T-Test for RRNn: 0.13441425323462072\n",
      "T-Test for Feedr: 0.06578685377528432\n",
      "T-Test for PosN: 0.06481697980131582\n",
      "T-Test for PosA: 0.07003679849460288\n",
      "T-Test for RRAn: 0.5797500161026661\n",
      "T-Test for RRAe: 0.9090614166154041\n",
      "T-Test for VinylSd: 1.6989855384818658e-15\n",
      "T-Test for MetalSd: 1.5811982517849187e-08\n",
      "T-Test for Wd Sdng: 1.1666166356563886e-07\n",
      "T-Test for HdBoard: 0.0014887380382620776\n",
      "T-Test for BrkFace: 0.232999236761322\n",
      "T-Test for WdShing: 0.054011398193851104\n",
      "T-Test for CemntBd: 2.029482975173566e-06\n",
      "T-Test for Plywood: 0.5209423384201627\n",
      "T-Test for AsbShng: 3.7754066957161554e-05\n",
      "T-Test for Stucco: 0.26369554565146364\n",
      "T-Test for BrkComm: 0.05064472963234228\n",
      "T-Test for AsphShn: 0.3087209916962163\n",
      "T-Test for Stone: 0.1676616935991285\n",
      "T-Test for ImStucc: 0.3077800170048334\n",
      "T-Test for CBlock: 0.3395601754781814\n",
      "T-Test for 1Fam: 0.12298368691687245\n",
      "T-Test for 2fmCon: 0.0002511145823440003\n",
      "T-Test for Duplex: 1.8985909964107854e-05\n",
      "T-Test for TwnhsE: 0.8914887421479878\n",
      "T-Test for Twnhs: 0.00022349863199219226\n"
     ]
    }
   ],
   "source": [
    "from scipy.stats import ttest_ind\n",
    "\n",
    "def perform_t_test(df, predictor_column, qualitative_columns, category_values):\n",
    "    \n",
    "    for category_column in qualitative_columns:\n",
    "         \n",
    "        for category in category_values:\n",
    "            category_data = df[predictor_column][df[category_column] == category]\n",
    "            if \n",
    "            ttest_ind(category_data, df[predictor_column]).pvalue\n",
    "            print(f'T-Test for {category}: {ttest_ind(category_data, df[predictor_column]).pvalue}')\n",
    "\n",
    "\n",
    "    perform_t_test(train_data, 'SalePrice', column, train_data[column].unique())"
   ]
  },
  {
   "cell_type": "markdown",
   "metadata": {},
   "source": [
    "#### Declare Columns (User Input)"
   ]
  },
  {
   "cell_type": "code",
   "execution_count": 11,
   "metadata": {},
   "outputs": [],
   "source": [
    "columns_to_encode = [\n",
    "                    'Street'\n",
    "                    'BldgType', \n",
    "                    \"HouseStyle\"\n",
    "                    \"Utilities\", \n",
    "                    ]\n",
    "# Save data to a file using joblib\n",
    "joblib.dump(columns_to_encode, 'modules/joblib_preprocessing/columns_to_encode.joblib')"
   ]
  },
  {
   "cell_type": "markdown",
   "metadata": {},
   "source": [
    "#### Apply encoding function"
   ]
  },
  {
   "cell_type": "code",
   "execution_count": null,
   "metadata": {},
   "outputs": [],
   "source": [
    "one_hot_encoding(quant_df, columns_to_encode)"
   ]
  },
  {
   "cell_type": "markdown",
   "metadata": {},
   "source": [
    "## 2.4 Identify columns to convert values to np.NaN\n",
    "    Conclusion: Data Transformed"
   ]
  },
  {
   "cell_type": "markdown",
   "metadata": {},
   "source": [
    "### 2.4.1 Zeros to np.NaN\n",
    "    All columns with the unit of square feet and the column MiscVal were transformed"
   ]
  },
  {
   "cell_type": "markdown",
   "metadata": {},
   "source": [
    "#### Identify Columns"
   ]
  },
  {
   "cell_type": "code",
   "execution_count": 12,
   "metadata": {},
   "outputs": [
    {
     "name": "stdout",
     "output_type": "stream",
     "text": [
      "MasVnrArea: Masonry veneer area in square feet\n",
      "\n",
      "BsmtFinSF1: Type 1 finished square feet\n",
      "\n",
      "BsmtFinSF2: Type 2 finished square feet\n",
      "\n",
      "BsmtUnfSF: Unfinished square feet of basement area\n",
      "\n",
      "TotalBsmtSF: Total square feet of basement area\n",
      "\n",
      "CentralAir: Central air conditioning \n",
      " N\tNo \n",
      " Y\tYes\n",
      "\n",
      "2ndFlrSF: Second floor square feet\n",
      "\n",
      "LowQualFinSF: Low quality finished square feet (all floors)\n",
      "\n",
      "BsmtFullBath: Basement full bathrooms\n",
      "\n",
      "BsmtHalfBath: Basement half bathrooms\n",
      "\n",
      "FullBath: Full bathrooms above grade\n",
      "\n",
      "HalfBath: Half baths above grade\n",
      "\n",
      "Fireplaces: Number of fireplaces\n",
      "\n",
      "GarageCars: Size of garage in car capacity\n",
      "\n",
      "GarageArea: Size of garage in square feet\n",
      "\n",
      "WoodDeckSF: Wood deck area in square feet\n",
      "\n",
      "OpenPorchSF: Open porch area in square feet\n",
      "\n",
      "EnclosedPorch: Enclosed porch area in square feet\n",
      "\n",
      "3SsnPorch: Three season porch area in square feet\n",
      "\n",
      "ScreenPorch: Screen porch area in square feet\n",
      "\n",
      "PoolArea: Pool area in square feet\n",
      "\n",
      "MiscVal: $Value of miscellaneous feature\n",
      "\n"
     ]
    }
   ],
   "source": [
    "# Filter columns with zero as the minimum value\n",
    "zero_min_cols_df = quant_no_neg_df[quant_no_neg_df.columns[quant_no_neg_df.min() == 0]]\n",
    "\n",
    "# Print descriptions of columns with zero as the minimum value\n",
    "print_column_descriptions(list(zero_min_cols_df.columns))"
   ]
  },
  {
   "cell_type": "markdown",
   "metadata": {},
   "source": [
    "#### Declare Columns(User Input)"
   ]
  },
  {
   "cell_type": "code",
   "execution_count": 13,
   "metadata": {},
   "outputs": [
    {
     "data": {
      "text/plain": [
       "['modules/joblib_preprocessing/zeros_to_nan_col_list.joblib']"
      ]
     },
     "execution_count": 13,
     "metadata": {},
     "output_type": "execute_result"
    }
   ],
   "source": [
    "# Retrieve Descriptions zero_min_cols\n",
    "output_zeros = extract_column_descriptions(list(zero_min_cols_df.columns))\n",
    "\n",
    "# Store list \n",
    "zeros_to_nan_col_list = []\n",
    "\n",
    "# filter for columns in the unit of square feet\n",
    "for key, value in output_zeros.items():\n",
    "    if \"feet\" in value:\n",
    "        zeros_to_nan_col_list.append(key)\n",
    "        \n",
    "# Additional column (MiscVal) to transform\n",
    "zeros_to_nan_col_list.append('MiscVal')\n",
    "\n",
    "# Save data to a file using joblib\n",
    "joblib.dump(zeros_to_nan_col_list, 'modules/joblib_preprocessing/zeros_to_nan_col_list.joblib')\n"
   ]
  },
  {
   "cell_type": "markdown",
   "metadata": {},
   "source": [
    "#### Apply Transformation"
   ]
  },
  {
   "cell_type": "code",
   "execution_count": 14,
   "metadata": {},
   "outputs": [
    {
     "name": "stdout",
     "output_type": "stream",
     "text": [
      "MasVnrArea: Masonry veneer area in square feet\n",
      "\n",
      "BsmtFinSF1: Type 1 finished square feet\n",
      "\n",
      "BsmtFinSF2: Type 2 finished square feet\n",
      "\n",
      "BsmtUnfSF: Unfinished square feet of basement area\n",
      "\n",
      "TotalBsmtSF: Total square feet of basement area\n",
      "\n",
      "2ndFlrSF: Second floor square feet\n",
      "\n",
      "LowQualFinSF: Low quality finished square feet (all floors)\n",
      "\n",
      "GarageArea: Size of garage in square feet\n",
      "\n",
      "WoodDeckSF: Wood deck area in square feet\n",
      "\n",
      "OpenPorchSF: Open porch area in square feet\n",
      "\n",
      "EnclosedPorch: Enclosed porch area in square feet\n",
      "\n",
      "3SsnPorch: Three season porch area in square feet\n",
      "\n",
      "ScreenPorch: Screen porch area in square feet\n",
      "\n",
      "PoolArea: Pool area in square feet\n",
      "\n",
      "MiscVal: $Value of miscellaneous feature\n",
      "\n",
      "      column name  original min value  new min value\n",
      "0      MasVnrArea                 0.0            1.0\n",
      "1      BsmtFinSF1                 0.0            2.0\n",
      "2      BsmtFinSF2                 0.0           28.0\n",
      "3       BsmtUnfSF                 0.0           14.0\n",
      "4     TotalBsmtSF                 0.0          105.0\n",
      "5        2ndFlrSF                 0.0          110.0\n",
      "6    LowQualFinSF                 0.0           53.0\n",
      "7      GarageArea                 0.0          160.0\n",
      "8      WoodDeckSF                 0.0           12.0\n",
      "9     OpenPorchSF                 0.0            4.0\n",
      "10  EnclosedPorch                 0.0           19.0\n",
      "11      3SsnPorch                 0.0           23.0\n",
      "12    ScreenPorch                 0.0           40.0\n",
      "13       PoolArea                 0.0          480.0\n",
      "14        MiscVal                 0.0           54.0\n"
     ]
    }
   ],
   "source": [
    "# Call and store the result from the replace_zeros_with_nan function from preprocessing modules\n",
    "quant_0_df, sq_ft_col_list_func_changes = replace_zeros_with_nan(quant_df, zeros_to_nan_col_list)\n",
    "\n",
    "# Print descriptions\n",
    "print_column_descriptions(zeros_to_nan_col_list)\n",
    "\n",
    "# Print changes\n",
    "print(sq_ft_col_list_func_changes)"
   ]
  },
  {
   "cell_type": "markdown",
   "metadata": {},
   "source": [
    "### 2.4.2 Identify and Convert other columns that should have np.NaN"
   ]
  },
  {
   "cell_type": "markdown",
   "metadata": {},
   "source": [
    "#### Identify Columns"
   ]
  },
  {
   "cell_type": "code",
   "execution_count": 15,
   "metadata": {},
   "outputs": [
    {
     "name": "stdout",
     "output_type": "stream",
     "text": [
      "LotFrontage: Linear feet of street connected to property\n",
      "\n",
      "LotArea: Lot size in square feet\n",
      "\n",
      "OverallQual: Rates the overall material and finish of the house \n",
      " 10\tVery Excellent \n",
      " 9\tExcellent \n",
      " 8\tVery Good \n",
      " 7\tGood \n",
      " 6\tAbove Average \n",
      " 5\tAverage \n",
      " 4\tBelow Average \n",
      " 3\tFair \n",
      " 2\tPoor \n",
      " 1\tVery Poor\n",
      "\n",
      "OverallCond: Rates the overall condition of the house \n",
      " 10\tVery Excellent \n",
      " 9\tExcellent \n",
      " 8\tVery Good \n",
      " 7\tGood \n",
      " 6\tAbove Average \n",
      " 5\tAverage \n",
      " 4\tBelow Average \n",
      " 3\tFair \n",
      " 2\tPoor \n",
      " 1\tVery Poor\n",
      "\n",
      "YearBuilt: Original construction date\n",
      "\n",
      "YearRemodAdd: Remodel date (same as construction date if no remodeling or additions)\n",
      "\n",
      "MasVnrArea: Masonry veneer area in square feet\n",
      "\n",
      "ExterQual: Evaluates the quality of the material on the exterior \n",
      " Ex\tExcellent \n",
      " Gd\tGood \n",
      " TA\tAverage/Typical \n",
      " Fa\tFair \n",
      " Po\tPoor\n",
      "\n",
      "ExterCond: Evaluates the present condition of the material on the exterior \n",
      " Ex\tExcellent \n",
      " Gd\tGood \n",
      " TA\tAverage/Typical \n",
      " Fa\tFair \n",
      " Po\tPoor\n",
      "\n",
      "BsmtQual: Evaluates the height of the basement \n",
      " Ex\tExcellent (100+ inches) \n",
      " Gd\tGood (90-99 inches) \n",
      " TA\tTypical (80-89 inches) \n",
      " Fa\tFair (70-79 inches) \n",
      " Po\tPoor (<70 inches \n",
      " NA\tNo Basement\n",
      "\n",
      "BsmtCond: Evaluates the general condition of the basement \n",
      " Ex\tExcellent \n",
      " Gd\tGood \n",
      " TA\tTypical - slight dampness allowed \n",
      " Fa\tFair - dampness or some cracking or settling \n",
      " Po\tPoor - Severe cracking, settling, or wetness \n",
      " NA\tNo Basement\n",
      "\n",
      "BsmtFinSF1: Type 1 finished square feet\n",
      "\n",
      "BsmtFinSF2: Type 2 finished square feet\n",
      "\n",
      "BsmtUnfSF: Unfinished square feet of basement area\n",
      "\n",
      "TotalBsmtSF: Total square feet of basement area\n",
      "\n",
      "HeatingQC: Heating quality and condition \n",
      " Ex\tExcellent \n",
      " Gd\tGood \n",
      " TA\tAverage/Typical \n",
      " Fa\tFair \n",
      " Po\tPoor\n",
      "\n",
      "CentralAir: Central air conditioning \n",
      " N\tNo \n",
      " Y\tYes\n",
      "\n",
      "1stFlrSF: First Floor square feet\n",
      "\n",
      "2ndFlrSF: Second floor square feet\n",
      "\n",
      "LowQualFinSF: Low quality finished square feet (all floors)\n",
      "\n",
      "GrLivArea: Above grade (ground) living area square feet\n",
      "\n",
      "BsmtFullBath: Basement full bathrooms\n",
      "\n",
      "BsmtHalfBath: Basement half bathrooms\n",
      "\n",
      "FullBath: Full bathrooms above grade\n",
      "\n",
      "HalfBath: Half baths above grade\n",
      "\n",
      "KitchenQual: Kitchen quality \n",
      " Ex\tExcellent \n",
      " Gd\tGood \n",
      " TA\tTypical/Average \n",
      " Fa\tFair \n",
      " Po\tPoor\n",
      "\n",
      "TotRmsAbvGrd: Total rooms above grade (does not include bathrooms)\n",
      "\n",
      "Fireplaces: Number of fireplaces\n",
      "\n",
      "GarageYrBlt: Year garage was built\n",
      "\n",
      "GarageCars: Size of garage in car capacity\n",
      "\n",
      "GarageArea: Size of garage in square feet\n",
      "\n",
      "GarageQual: Garage quality \n",
      " Ex\tExcellent \n",
      " Gd\tGood \n",
      " TA\tTypical/Average \n",
      " Fa\tFair \n",
      " Po\tPoor \n",
      " NA\tNo Garage\n",
      "\n",
      "GarageCond: Garage condition \n",
      " Ex\tExcellent \n",
      " Gd\tGood \n",
      " TA\tTypical/Average \n",
      " Fa\tFair \n",
      " Po\tPoor \n",
      " NA\tNo Garage\n",
      "\n",
      "WoodDeckSF: Wood deck area in square feet\n",
      "\n",
      "OpenPorchSF: Open porch area in square feet\n",
      "\n",
      "EnclosedPorch: Enclosed porch area in square feet\n",
      "\n",
      "3SsnPorch: Three season porch area in square feet\n",
      "\n",
      "ScreenPorch: Screen porch area in square feet\n",
      "\n",
      "PoolArea: Pool area in square feet\n",
      "\n",
      "PoolQC: Pool quality \n",
      " Ex\tExcellent \n",
      " Gd\tGood \n",
      " TA\tAverage/Typical \n",
      " Fa\tFair \n",
      " NA\tNo Pool\n",
      "\n",
      "Fence: Fence quality \n",
      " GdPrv\tGood Privacy \n",
      " MnPrv\tMinimum Privacy \n",
      " GdWo\tGood Wood \n",
      " MnWw\tMinimum Wood/Wire \n",
      " NA\tNo Fence\n",
      "\n",
      "MiscVal: $Value of miscellaneous feature\n",
      "\n",
      "MoSold: Month Sold (MM)\n",
      "\n",
      "YrSold: Year Sold (YYYY)\n",
      "\n"
     ]
    }
   ],
   "source": [
    "# Print descriptions\n",
    "print_column_descriptions(list(quant_0_df.columns))"
   ]
  },
  {
   "cell_type": "markdown",
   "metadata": {},
   "source": [
    "#### Declare Columns(User Input)"
   ]
  },
  {
   "cell_type": "code",
   "execution_count": 16,
   "metadata": {},
   "outputs": [
    {
     "data": {
      "text/plain": [
       "['modules/joblib_preprocessing/df_cols_to_trans_nan.joblib']"
      ]
     },
     "execution_count": 16,
     "metadata": {},
     "output_type": "execute_result"
    }
   ],
   "source": [
    "# Define Columns to transform based on other columns\n",
    "df_cols_to_trans_nan = pd.DataFrame(\n",
    "    data=[\n",
    "        (\"MasVnrArea\", \"MasVnrType\", None),\n",
    "        (\"BsmtFinSF1\", \"BsmtFinType1\", \"NA\"),\n",
    "        (\"BsmtFinType2\", \"BsmtFinType2\", \"NA\"),\n",
    "        (\"Fireplaces\", \"FireplaceQu\", \"NA\"),\n",
    "        (\"GarageYrBlt\", \"GarageType\", \"NA\"),\n",
    "        (\"GarageCars\", \"GarageType\", \"NA\"),\n",
    "        (\"GarageArea\", \"GarageType\", \"NA\"),\n",
    "        (\"MiscVal\", \"MiscFeature\", \"NA\")\n",
    "    ],\n",
    "    columns=[\"quant_col_to_trans\", \"qual_col_ref\", \"qual_col_and_val_dict\"]\n",
    ")\n",
    "\n",
    "# Save data to a file using joblib\n",
    "joblib.dump(df_cols_to_trans_nan, 'modules/joblib_preprocessing/df_cols_to_trans_nan.joblib')\n"
   ]
  },
  {
   "cell_type": "markdown",
   "metadata": {},
   "source": [
    "#### Apply Transformation"
   ]
  },
  {
   "cell_type": "code",
   "execution_count": 17,
   "metadata": {},
   "outputs": [],
   "source": [
    "# Replace values based on the rules defined in df_cols_to_trans_nan calling the preprocessing module\n",
    "quant_nan_clean_df, _ = replace_values_based_on_another_column(train_data, quant_0_df, df_cols_to_trans_nan)"
   ]
  },
  {
   "cell_type": "markdown",
   "metadata": {},
   "source": [
    "## 2.5 Outliers"
   ]
  },
  {
   "cell_type": "markdown",
   "metadata": {},
   "source": [
    "### Identify Columns\n",
    "    Based on the visualizations, the columns 'BsmtHalfBath', 'FullBath', 'HalfBath', 'BedroomAbvGr', 'KitchenAbvGr', 'TotRmsAbvGrd' will not have outliers removed as that data is desired.\n"
   ]
  },
  {
   "cell_type": "code",
   "execution_count": 18,
   "metadata": {},
   "outputs": [],
   "source": [
    "# Run the function to generate visualizations\n",
    "# plot_subplots_for_columns(quant_nan_clean_df)"
   ]
  },
  {
   "cell_type": "markdown",
   "metadata": {},
   "source": [
    "### Declare Columns (User input)"
   ]
  },
  {
   "cell_type": "code",
   "execution_count": 19,
   "metadata": {},
   "outputs": [
    {
     "data": {
      "text/plain": [
       "['modules/joblib_preprocessing/cols_not_to_remove_outliers.joblib']"
      ]
     },
     "execution_count": 19,
     "metadata": {},
     "output_type": "execute_result"
    }
   ],
   "source": [
    "# List columns that should not have outliers removed based on IQR (determined by visualization)\n",
    "cols_not_to_remove_outliers = ['BsmtHalfBath', 'FullBath', 'HalfBath', 'BedroomAbvGr', 'KitchenAbvGr', 'TotRmsAbvGrd']\n",
    "\n",
    "# Append Ordinal Columns\n",
    "for item in ordinal_cols_to_transform_list:\n",
    "    cols_not_to_remove_outliers.append(item[0])\n",
    "for item in ordinal_quant_columns_to_coerce:\n",
    "    cols_not_to_remove_outliers.append(item[0])\n",
    "\n",
    "# Save data to a file using joblib\n",
    "joblib.dump(cols_not_to_remove_outliers, 'modules/joblib_preprocessing/cols_not_to_remove_outliers.joblib')"
   ]
  },
  {
   "cell_type": "markdown",
   "metadata": {},
   "source": [
    "### Apply Transformation"
   ]
  },
  {
   "cell_type": "code",
   "execution_count": 76,
   "metadata": {},
   "outputs": [
    {
     "name": "stdout",
     "output_type": "stream",
     "text": [
      "      column_name num_outliers_removed\n",
      "0     LotFrontage                   88\n",
      "1         LotArea                   69\n",
      "2       YearBuilt                    7\n",
      "3      MasVnrArea                   28\n",
      "4      BsmtFinSF1                   13\n",
      "5      BsmtFinSF2                    3\n",
      "6       BsmtUnfSF                   30\n",
      "7     TotalBsmtSF                   24\n",
      "8        1stFlrSF                   20\n",
      "9        2ndFlrSF                   19\n",
      "10      GrLivArea                   31\n",
      "11   BsmtFullBath                    1\n",
      "12     Fireplaces                    5\n",
      "13     GarageCars                    5\n",
      "14     GarageArea                   46\n",
      "15     WoodDeckSF                   32\n",
      "16    OpenPorchSF                   43\n",
      "17  EnclosedPorch                    2\n",
      "18      3SsnPorch                    2\n",
      "19    ScreenPorch                    6\n",
      "20        MiscVal                    8\n",
      "21      SalePrice                   61\n"
     ]
    }
   ],
   "source": [
    "# Call and store the result from the remove_outliers function from preprocessing modules\n",
    "train_data_clean, outliers_removed = remove_outliers(quant_nan_clean_df, cols_not_to_remove_outliers)\n",
    "print(outliers_removed)"
   ]
  },
  {
   "cell_type": "markdown",
   "metadata": {},
   "source": [
    "## 2.6 Removal of Null Values\n",
    "    This is impractical considering almost every remaining record has a null value.  As they are all np.NaNs instead of None or NA values, the model will take these columns with the NaN values.  The records where y is np.NaN will be removed."
   ]
  },
  {
   "cell_type": "code",
   "execution_count": 32,
   "metadata": {},
   "outputs": [],
   "source": [
    "train_data_clean_na_y_drop = train_data_clean.dropna(subset=['SalePrice'])"
   ]
  },
  {
   "cell_type": "markdown",
   "metadata": {},
   "source": [
    "## Perform Transformations on new data"
   ]
  },
  {
   "cell_type": "code",
   "execution_count": 33,
   "metadata": {},
   "outputs": [
    {
     "name": "stdout",
     "output_type": "stream",
     "text": [
      "Number of outliers removed from LotFrontage: 100\n",
      "Number of outliers removed from LotArea: 60\n",
      "Number of outliers removed from YearBuilt: 2\n",
      "Number of outliers removed from MasVnrArea: 34\n",
      "Number of outliers removed from BsmtFinSF1: 14\n",
      "Number of outliers removed from BsmtFinSF2: 2\n",
      "Number of outliers removed from BsmtUnfSF: 26\n",
      "Number of outliers removed from TotalBsmtSF: 20\n",
      "Number of outliers removed from 1stFlrSF: 23\n",
      "Number of outliers removed from 2ndFlrSF: 14\n",
      "Number of outliers removed from LowQualFinSF: 1\n",
      "Number of outliers removed from GrLivArea: 44\n",
      "Number of outliers removed from BsmtFullBath: 1\n",
      "Number of outliers removed from Fireplaces: 7\n",
      "Number of outliers removed from GarageYrBlt: 1\n",
      "Number of outliers removed from GarageCars: 12\n",
      "Number of outliers removed from GarageArea: 34\n",
      "Number of outliers removed from WoodDeckSF: 38\n",
      "Number of outliers removed from OpenPorchSF: 48\n",
      "Number of outliers removed from EnclosedPorch: 6\n",
      "Number of outliers removed from 3SsnPorch: 1\n",
      "Number of outliers removed from ScreenPorch: 5\n",
      "Number of outliers removed from MiscVal: 5\n"
     ]
    }
   ],
   "source": [
    "test_data_clean = data_clean(test_data)"
   ]
  },
  {
   "cell_type": "code",
   "execution_count": 37,
   "metadata": {},
   "outputs": [
    {
     "name": "stdout",
     "output_type": "stream",
     "text": [
      "['SalePrice']\n",
      "<class 'pandas.core.frame.DataFrame'>\n",
      "RangeIndex: 1460 entries, 0 to 1459\n",
      "Data columns (total 47 columns):\n",
      " #   Column         Non-Null Count  Dtype  \n",
      "---  ------         --------------  -----  \n",
      " 0   LotFrontage    1113 non-null   float64\n",
      " 1   LotArea        1391 non-null   float64\n",
      " 2   YearBuilt      1453 non-null   float64\n",
      " 3   YearRemodAdd   1460 non-null   int64  \n",
      " 4   MasVnrArea     563 non-null    float64\n",
      " 5   BsmtFinSF1     980 non-null    float64\n",
      " 6   BsmtFinSF2     164 non-null    float64\n",
      " 7   BsmtUnfSF      1312 non-null   float64\n",
      " 8   TotalBsmtSF    1399 non-null   float64\n",
      " 9   1stFlrSF       1440 non-null   float64\n",
      " 10  2ndFlrSF       612 non-null    float64\n",
      " 11  LowQualFinSF   26 non-null     float64\n",
      " 12  GrLivArea      1429 non-null   float64\n",
      " 13  BsmtFullBath   1459 non-null   float64\n",
      " 14  Fireplaces     1455 non-null   float64\n",
      " 15  GarageYrBlt    1379 non-null   float64\n",
      " 16  GarageCars     1455 non-null   float64\n",
      " 17  GarageArea     1333 non-null   float64\n",
      " 18  WoodDeckSF     667 non-null    float64\n",
      " 19  OpenPorchSF    761 non-null    float64\n",
      " 20  EnclosedPorch  206 non-null    float64\n",
      " 21  3SsnPorch      22 non-null     float64\n",
      " 22  ScreenPorch    110 non-null    float64\n",
      " 23  PoolArea       7 non-null      float64\n",
      " 24  MiscVal        44 non-null     float64\n",
      " 25  MoSold         1460 non-null   int64  \n",
      " 26  YrSold         1460 non-null   int64  \n",
      " 27  SalePrice      1399 non-null   float64\n",
      " 28  BsmtHalfBath   1460 non-null   float64\n",
      " 29  FullBath       1460 non-null   float64\n",
      " 30  HalfBath       1460 non-null   float64\n",
      " 31  BedroomAbvGr   1460 non-null   float64\n",
      " 32  KitchenAbvGr   1460 non-null   float64\n",
      " 33  TotRmsAbvGrd   1460 non-null   float64\n",
      " 34  PoolQC         7 non-null      float64\n",
      " 35  GarageQual     1379 non-null   float64\n",
      " 36  GarageCond     1379 non-null   float64\n",
      " 37  KitchenQual    1460 non-null   float64\n",
      " 38  HeatingQC      1459 non-null   float64\n",
      " 39  BsmtCond       1423 non-null   float64\n",
      " 40  BsmtQual       1423 non-null   float64\n",
      " 41  ExterCond      1460 non-null   int64  \n",
      " 42  ExterQual      1460 non-null   int64  \n",
      " 43  Fence          281 non-null    float64\n",
      " 44  CentralAir     1460 non-null   int64  \n",
      " 45  OverallQual    1460 non-null   int64  \n",
      " 46  OverallCond    1460 non-null   int64  \n",
      "dtypes: float64(39), int64(8)\n",
      "memory usage: 536.2 KB\n"
     ]
    }
   ],
   "source": [
    "# Identify column mismatch, if any\n",
    "missing_columns_list = missing_columns_from_dataframes(train_data_clean_na_y_drop, test_data_clean)\n",
    "print(missing_columns_list)\n",
    "# Printed output should only be the y column if not present in test data"
   ]
  },
  {
   "cell_type": "code",
   "execution_count": 41,
   "metadata": {},
   "outputs": [
    {
     "name": "stdout",
     "output_type": "stream",
     "text": [
      "<class 'pandas.core.frame.DataFrame'>\n",
      "Index: 1399 entries, 0 to 1459\n",
      "Data columns (total 47 columns):\n",
      " #   Column         Non-Null Count  Dtype  \n",
      "---  ------         --------------  -----  \n",
      " 0   LotFrontage    1060 non-null   float64\n",
      " 1   LotArea        1339 non-null   float64\n",
      " 2   YearBuilt      1392 non-null   float64\n",
      " 3   YearRemodAdd   1399 non-null   int64  \n",
      " 4   MasVnrArea     528 non-null    float64\n",
      " 5   BsmtFinSF1     939 non-null    float64\n",
      " 6   BsmtFinSF2     161 non-null    float64\n",
      " 7   BsmtUnfSF      1261 non-null   float64\n",
      " 8   TotalBsmtSF    1353 non-null   float64\n",
      " 9   1stFlrSF       1387 non-null   float64\n",
      " 10  2ndFlrSF       590 non-null    float64\n",
      " 11  LowQualFinSF   25 non-null     float64\n",
      " 12  GrLivArea      1383 non-null   float64\n",
      " 13  BsmtFullBath   1398 non-null   float64\n",
      " 14  Fireplaces     1396 non-null   float64\n",
      " 15  GarageYrBlt    1318 non-null   float64\n",
      " 16  GarageCars     1394 non-null   float64\n",
      " 17  GarageArea     1285 non-null   float64\n",
      " 18  WoodDeckSF     621 non-null    float64\n",
      " 19  OpenPorchSF    712 non-null    float64\n",
      " 20  EnclosedPorch  202 non-null    float64\n",
      " 21  3SsnPorch      20 non-null     float64\n",
      " 22  ScreenPorch    104 non-null    float64\n",
      " 23  PoolArea       6 non-null      float64\n",
      " 24  MiscVal        44 non-null     float64\n",
      " 25  MoSold         1399 non-null   int64  \n",
      " 26  YrSold         1399 non-null   int64  \n",
      " 27  BsmtHalfBath   1399 non-null   float64\n",
      " 28  FullBath       1399 non-null   float64\n",
      " 29  HalfBath       1399 non-null   float64\n",
      " 30  BedroomAbvGr   1399 non-null   float64\n",
      " 31  KitchenAbvGr   1399 non-null   float64\n",
      " 32  TotRmsAbvGrd   1399 non-null   float64\n",
      " 33  PoolQC         6 non-null      float64\n",
      " 34  GarageQual     1318 non-null   float64\n",
      " 35  GarageCond     1318 non-null   float64\n",
      " 36  KitchenQual    1399 non-null   float64\n",
      " 37  HeatingQC      1398 non-null   float64\n",
      " 38  BsmtCond       1362 non-null   float64\n",
      " 39  BsmtQual       1362 non-null   float64\n",
      " 40  ExterCond      1399 non-null   int64  \n",
      " 41  ExterQual      1399 non-null   int64  \n",
      " 42  Fence          277 non-null    float64\n",
      " 43  CentralAir     1399 non-null   int64  \n",
      " 44  OverallQual    1399 non-null   int64  \n",
      " 45  OverallCond    1399 non-null   int64  \n",
      " 46  SalePrice      1399 non-null   float64\n",
      "dtypes: float64(39), int64(8)\n",
      "memory usage: 524.6 KB\n"
     ]
    }
   ],
   "source": [
    "# Convert datatypes to matching numeric types\n",
    "train_data_clean_check, test_data_clean_check = convert_int64_to_float64(\n",
    "    train_data_clean_na_y_drop, test_data_clean\n",
    ")\n",
    "train_data_clean_check.info()"
   ]
  },
  {
   "cell_type": "code",
   "execution_count": 42,
   "metadata": {},
   "outputs": [
    {
     "data": {
      "text/plain": [
       "['modules/joblib_preprocessing/train_data_clean.joblib']"
      ]
     },
     "execution_count": 42,
     "metadata": {},
     "output_type": "execute_result"
    }
   ],
   "source": [
    "# Save the training and test dataframes to joblib\n",
    "\n",
    "joblib.dump({'columns':test_data_clean_check.columns.tolist(), \"data\": test_data_clean_check}, 'modules/joblib_preprocessing/test_data_clean.joblib')\n",
    "joblib.dump({'columns':train_data_clean_check.columns.tolist(), \"data\": train_data_clean_check}, 'modules/joblib_preprocessing/train_data_clean.joblib')"
   ]
  },
  {
   "cell_type": "code",
   "execution_count": 140,
   "metadata": {},
   "outputs": [
    {
     "data": {
      "text/plain": [
       "['modules/joblib_preprocessing/y_test.joblib']"
      ]
     },
     "execution_count": 140,
     "metadata": {},
     "output_type": "execute_result"
    }
   ],
   "source": [
    "from sklearn.model_selection import train_test_split\n",
    "\n",
    "# LBecause the test data does not have the predictor variable, I'll be using part of the train data as the test data\n",
    "train_data_clean = joblib.load('modules/joblib_preprocessing/train_data_clean.joblib')\n",
    "\n",
    "# Convert dict values to dataframes\n",
    "train_data_clean = pd.DataFrame(columns=train_data_clean['columns'], data=train_data_clean['data'])\n",
    "\n",
    "# Isolate y from x predictors\n",
    "y = train_data_clean['SalePrice']\n",
    "X = train_data_clean.drop(columns='SalePrice')\n",
    "\n",
    "# Split the data\n",
    "X_train, X_test, y_train, y_test = train_test_split(X, y, test_size=0.2, random_state=0)\n"
   ]
  },
  {
   "cell_type": "markdown",
   "metadata": {},
   "source": [
    "### <center style=\"background-color:Gainsboro; width:60%;\">Feature engineering</center>\n",
    "As mentioned, one aspect of feature engineering is the creation of new features out of existing features. A simple example would be to create a new feature which is the sum of the number of bathrooms in the house:"
   ]
  },
  {
   "cell_type": "code",
   "execution_count": 141,
   "metadata": {},
   "outputs": [],
   "source": [
    "import matplotlib.pyplot as plt\n",
    "import math\n",
    "\n",
    "def scatter_plots(df, series):\n",
    "    # Get the list of column names excluding the specified series\n",
    "    other_columns = df.columns.tolist()\n",
    "    \n",
    "    # Calculate the number of rows and columns for the subplots\n",
    "    num_plots = len(other_columns)\n",
    "    num_rows = math.ceil(num_plots / 4)\n",
    "    num_cols = min(num_plots, 4)\n",
    "    \n",
    "    # Create the subplots\n",
    "    fig, axes = plt.subplots(nrows=num_rows, ncols=num_cols, figsize=(15, 4 * num_rows))\n",
    "    \n",
    "    # Flatten the axes array if there is only one row\n",
    "    if num_rows == 1:\n",
    "        axes = axes.reshape(1, -1)\n",
    "    \n",
    "    # Iterate over the other columns and create scatter plots\n",
    "    for i, col in enumerate(other_columns):\n",
    "        row = i // num_cols\n",
    "        coln = i % num_cols\n",
    "        ax = axes[row, coln]\n",
    "        # Align the data based on common index\n",
    "        aligned_data = pd.concat([series, df[col]], axis=1, join='inner')\n",
    "        \n",
    "        ax.scatter(aligned_data[series.name], aligned_data[col])\n",
    "        ax.set_xlabel(series.name)\n",
    "        ax.set_ylabel(col)\n",
    "        ax.set_title(f'{col} vs {series.name}')\n",
    "    \n",
    "    # Remove any unused subplots\n",
    "    if num_plots < num_rows * num_cols:\n",
    "        for i in range(num_plots, num_rows * num_cols):\n",
    "            fig.delaxes(axes.flatten()[i])\n",
    "    \n",
    "    # Adjust the spacing between subplots\n",
    "    fig.tight_layout()\n",
    "    \n",
    "    # Show the plots\n",
    "    plt.show()"
   ]
  },
  {
   "cell_type": "code",
   "execution_count": 142,
   "metadata": {
    "execution": {
     "iopub.execute_input": "2022-10-17T08:49:03.999750Z",
     "iopub.status.busy": "2022-10-17T08:49:03.999440Z",
     "iopub.status.idle": "2022-10-17T08:49:04.014461Z",
     "shell.execute_reply": "2022-10-17T08:49:04.013575Z",
     "shell.execute_reply.started": "2022-10-17T08:49:03.999715Z"
    }
   },
   "outputs": [],
   "source": [
    "for df in (X_train, X_test):\n",
    "    df[\"n_bathrooms\"] = df[\"BsmtFullBath\"] + (df[\"BsmtHalfBath\"]*0.5) + df[\"FullBath\"] + (df[\"HalfBath\"]*0.5)\n",
    "    df[\"area_with_basement\"]  = df[\"GrLivArea\"] + df[\"TotalBsmtSF\"]\n",
    "    df['YearBuiltdiffYrSold'] = df[\"YrSold\"] - df['YearBuilt']\n",
    "    df['YearRemodAdddiffYrSold'] = df[\"YrSold\"] - df['YearRemodAdd'] \n",
    "    df['GarageYrBltdiffYrSold'] = df[\"YrSold\"] - df['GarageYrBlt']\n",
    "    \n",
    "# Combine the columns to plot into a single list\n",
    "columns_to_plot = [\n",
    "    [\"n_bathrooms\", \"BsmtFullBath\", \"BsmtHalfBath\", \"FullBath\", \"HalfBath\"],\n",
    "    [\"area_with_basement\",\"GrLivArea\",\"TotalBsmtSF\"],\n",
    "    [\"YearBuiltdiffYrSold\", \"YearBuilt\"],\n",
    "    [\"YearRemodAdddiffYrSold\", \"YearRemodAdd\"],\n",
    "    [\"GarageYrBltdiffYrSold\", \"GarageYrBlt\"]\n",
    "]\n",
    "\n",
    "# Plot the scatter plots\n",
    "# for columns in columns_to_plot:\n",
    "#     scatter_plots(X_train[columns], y_train)"
   ]
  },
  {
   "cell_type": "code",
   "execution_count": 143,
   "metadata": {},
   "outputs": [
    {
     "data": {
      "text/plain": [
       "['modules/joblib_preprocessing/y_test.joblib']"
      ]
     },
     "execution_count": 143,
     "metadata": {},
     "output_type": "execute_result"
    }
   ],
   "source": [
    "# Save the changes\n",
    "joblib.dump({'columns':X_train.columns.tolist(), \"data\": X_train}, 'modules/joblib_preprocessing/X_train.joblib')\n",
    "joblib.dump({'columns':X_test.columns.tolist(), \"data\": X_test}, 'modules/joblib_preprocessing/X_test.joblib')\n",
    "joblib.dump({'columns':y_train.name, \"data\": y_train}, 'modules/joblib_preprocessing/y_train.joblib')\n",
    "joblib.dump({'columns':y_test.name, \"data\": y_test}, 'modules/joblib_preprocessing/y_test.joblib')"
   ]
  },
  {
   "cell_type": "markdown",
   "metadata": {},
   "source": [
    "For more on this fascinating aspect may I recommend the free on-line book [\"*Feature Engineering and Selection: A Practical Approach for Predictive Models*\"](http://www.feat.engineering/) by Max Kuhn and Kjell Johnson.\n",
    "### <center style=\"background-color:Gainsboro; width:60%;\">XGBoost estimator</center>\n",
    "Note that for this competition we use the RMSLE evaluation metric, rather than the default metric, which for regression is the RMSE. For more on the peculiarities of the RMSLE see the Appendix below."
   ]
  },
  {
   "cell_type": "code",
   "execution_count": 122,
   "metadata": {
    "_cell_guid": "e7842527-0531-44fa-8ce0-ae4cc3cfd0d7",
    "_uuid": "365f3e96-c7a9-41cf-9c5f-76dbfd46168c",
    "execution": {
     "iopub.execute_input": "2022-10-17T08:49:04.016433Z",
     "iopub.status.busy": "2022-10-17T08:49:04.015704Z",
     "iopub.status.idle": "2022-10-17T08:50:04.782101Z",
     "shell.execute_reply": "2022-10-17T08:50:04.781125Z",
     "shell.execute_reply.started": "2022-10-17T08:49:04.016384Z"
    }
   },
   "outputs": [],
   "source": [
    "#=========================================================================\n",
    "# XGBoost regression: \n",
    "# Parameters: \n",
    "# n_estimators  \"Number of gradient boosted trees. Equivalent to number \n",
    "#                of boosting rounds.\"\n",
    "# learning_rate \"Boosting learning rate (also known as “eta”)\"\n",
    "# max_depth     \"Maximum depth of a tree. Increasing this value will make \n",
    "#                the model more complex and more likely to overfit.\" \n",
    "#=========================================================================\n",
    "regressor=xgb.XGBRegressor(eval_metric='rmsle')\n",
    "\n",
    "#=========================================================================\n",
    "# exhaustively search for the optimal hyperparameters\n",
    "#=========================================================================\n",
    "from sklearn.model_selection import GridSearchCV\n",
    "# set up our search grid\n",
    "param_grid = {\"max_depth\":    [4, 5],\n",
    "              \"n_estimators\": [500, 600, 700],\n",
    "              \"learning_rate\": [0.01, 0.015]}"
   ]
  },
  {
   "cell_type": "markdown",
   "metadata": {},
   "source": [
    "Can you use grid search to find the optimal hyper parameters?"
   ]
  },
  {
   "cell_type": "code",
   "execution_count": 128,
   "metadata": {},
   "outputs": [],
   "source": [
    "from sklearn.metrics import make_scorer\n",
    "\n",
    "# As Sci Kit learn does not have an RMSLE scorer, I have created one.\n",
    "def rmsle_scorer(y_true, y_pred, **kwargs):\n",
    "    \"\"\"Callable scorer similar to xgboost rmsle\"\"\"\n",
    "    rmsle = np.sqrt( # Root\n",
    "                    np.mean( # Mean\n",
    "                    np.square(# Square\n",
    "                        np.log1p(y_pred) - np.log1p(y_true)))) # Error of the log\n",
    "    return rmsle\n",
    "\n",
    "rmsle_score = make_scorer(rmsle_scorer, greater_is_better=True, needs_threshold=False)"
   ]
  },
  {
   "cell_type": "code",
   "execution_count": 129,
   "metadata": {},
   "outputs": [
    {
     "name": "stdout",
     "output_type": "stream",
     "text": [
      "Fitting 3 folds for each of 12 candidates, totalling 36 fits\n",
      "[CV] END ..learning_rate=0.01, max_depth=4, n_estimators=500; total time=   2.0s\n",
      "[CV] END ..learning_rate=0.01, max_depth=4, n_estimators=500; total time=   1.8s\n",
      "[CV] END ..learning_rate=0.01, max_depth=4, n_estimators=500; total time=   1.8s\n",
      "[CV] END ..learning_rate=0.01, max_depth=4, n_estimators=600; total time=   2.3s\n",
      "[CV] END ..learning_rate=0.01, max_depth=4, n_estimators=600; total time=   2.4s\n",
      "[CV] END ..learning_rate=0.01, max_depth=4, n_estimators=600; total time=   2.5s\n",
      "[CV] END ..learning_rate=0.01, max_depth=4, n_estimators=700; total time=   2.8s\n",
      "[CV] END ..learning_rate=0.01, max_depth=4, n_estimators=700; total time=   5.0s\n",
      "[CV] END ..learning_rate=0.01, max_depth=4, n_estimators=700; total time=   5.5s\n",
      "[CV] END ..learning_rate=0.01, max_depth=5, n_estimators=500; total time=   5.6s\n",
      "[CV] END ..learning_rate=0.01, max_depth=5, n_estimators=500; total time=   5.3s\n",
      "[CV] END ..learning_rate=0.01, max_depth=5, n_estimators=500; total time=   5.2s\n",
      "[CV] END ..learning_rate=0.01, max_depth=5, n_estimators=600; total time=   6.3s\n",
      "[CV] END ..learning_rate=0.01, max_depth=5, n_estimators=600; total time=   5.5s\n",
      "[CV] END ..learning_rate=0.01, max_depth=5, n_estimators=600; total time=   5.8s\n",
      "[CV] END ..learning_rate=0.01, max_depth=5, n_estimators=700; total time=   6.0s\n",
      "[CV] END ..learning_rate=0.01, max_depth=5, n_estimators=700; total time=   5.6s\n",
      "[CV] END ..learning_rate=0.01, max_depth=5, n_estimators=700; total time=   6.8s\n",
      "[CV] END .learning_rate=0.015, max_depth=4, n_estimators=500; total time=   5.4s\n",
      "[CV] END .learning_rate=0.015, max_depth=4, n_estimators=500; total time=   3.8s\n",
      "[CV] END .learning_rate=0.015, max_depth=4, n_estimators=500; total time=   2.7s\n",
      "[CV] END .learning_rate=0.015, max_depth=4, n_estimators=600; total time=   5.0s\n",
      "[CV] END .learning_rate=0.015, max_depth=4, n_estimators=600; total time=   4.7s\n",
      "[CV] END .learning_rate=0.015, max_depth=4, n_estimators=600; total time=   4.3s\n",
      "[CV] END .learning_rate=0.015, max_depth=4, n_estimators=700; total time=   7.2s\n",
      "[CV] END .learning_rate=0.015, max_depth=4, n_estimators=700; total time=   5.6s\n",
      "[CV] END .learning_rate=0.015, max_depth=4, n_estimators=700; total time=   5.0s\n",
      "[CV] END .learning_rate=0.015, max_depth=5, n_estimators=500; total time=   4.3s\n",
      "[CV] END .learning_rate=0.015, max_depth=5, n_estimators=500; total time=   4.4s\n",
      "[CV] END .learning_rate=0.015, max_depth=5, n_estimators=500; total time=   4.3s\n",
      "[CV] END .learning_rate=0.015, max_depth=5, n_estimators=600; total time=   5.2s\n",
      "[CV] END .learning_rate=0.015, max_depth=5, n_estimators=600; total time=   4.8s\n",
      "[CV] END .learning_rate=0.015, max_depth=5, n_estimators=600; total time=   5.3s\n",
      "[CV] END .learning_rate=0.015, max_depth=5, n_estimators=700; total time=   6.1s\n",
      "[CV] END .learning_rate=0.015, max_depth=5, n_estimators=700; total time=   6.6s\n",
      "[CV] END .learning_rate=0.015, max_depth=5, n_estimators=700; total time=   9.9s\n"
     ]
    },
    {
     "data": {
      "text/html": [
       "<style>#sk-container-id-2 {color: black;}#sk-container-id-2 pre{padding: 0;}#sk-container-id-2 div.sk-toggleable {background-color: white;}#sk-container-id-2 label.sk-toggleable__label {cursor: pointer;display: block;width: 100%;margin-bottom: 0;padding: 0.3em;box-sizing: border-box;text-align: center;}#sk-container-id-2 label.sk-toggleable__label-arrow:before {content: \"▸\";float: left;margin-right: 0.25em;color: #696969;}#sk-container-id-2 label.sk-toggleable__label-arrow:hover:before {color: black;}#sk-container-id-2 div.sk-estimator:hover label.sk-toggleable__label-arrow:before {color: black;}#sk-container-id-2 div.sk-toggleable__content {max-height: 0;max-width: 0;overflow: hidden;text-align: left;background-color: #f0f8ff;}#sk-container-id-2 div.sk-toggleable__content pre {margin: 0.2em;color: black;border-radius: 0.25em;background-color: #f0f8ff;}#sk-container-id-2 input.sk-toggleable__control:checked~div.sk-toggleable__content {max-height: 200px;max-width: 100%;overflow: auto;}#sk-container-id-2 input.sk-toggleable__control:checked~label.sk-toggleable__label-arrow:before {content: \"▾\";}#sk-container-id-2 div.sk-estimator input.sk-toggleable__control:checked~label.sk-toggleable__label {background-color: #d4ebff;}#sk-container-id-2 div.sk-label input.sk-toggleable__control:checked~label.sk-toggleable__label {background-color: #d4ebff;}#sk-container-id-2 input.sk-hidden--visually {border: 0;clip: rect(1px 1px 1px 1px);clip: rect(1px, 1px, 1px, 1px);height: 1px;margin: -1px;overflow: hidden;padding: 0;position: absolute;width: 1px;}#sk-container-id-2 div.sk-estimator {font-family: monospace;background-color: #f0f8ff;border: 1px dotted black;border-radius: 0.25em;box-sizing: border-box;margin-bottom: 0.5em;}#sk-container-id-2 div.sk-estimator:hover {background-color: #d4ebff;}#sk-container-id-2 div.sk-parallel-item::after {content: \"\";width: 100%;border-bottom: 1px solid gray;flex-grow: 1;}#sk-container-id-2 div.sk-label:hover label.sk-toggleable__label {background-color: #d4ebff;}#sk-container-id-2 div.sk-serial::before {content: \"\";position: absolute;border-left: 1px solid gray;box-sizing: border-box;top: 0;bottom: 0;left: 50%;z-index: 0;}#sk-container-id-2 div.sk-serial {display: flex;flex-direction: column;align-items: center;background-color: white;padding-right: 0.2em;padding-left: 0.2em;position: relative;}#sk-container-id-2 div.sk-item {position: relative;z-index: 1;}#sk-container-id-2 div.sk-parallel {display: flex;align-items: stretch;justify-content: center;background-color: white;position: relative;}#sk-container-id-2 div.sk-item::before, #sk-container-id-2 div.sk-parallel-item::before {content: \"\";position: absolute;border-left: 1px solid gray;box-sizing: border-box;top: 0;bottom: 0;left: 50%;z-index: -1;}#sk-container-id-2 div.sk-parallel-item {display: flex;flex-direction: column;z-index: 1;position: relative;background-color: white;}#sk-container-id-2 div.sk-parallel-item:first-child::after {align-self: flex-end;width: 50%;}#sk-container-id-2 div.sk-parallel-item:last-child::after {align-self: flex-start;width: 50%;}#sk-container-id-2 div.sk-parallel-item:only-child::after {width: 0;}#sk-container-id-2 div.sk-dashed-wrapped {border: 1px dashed gray;margin: 0 0.4em 0.5em 0.4em;box-sizing: border-box;padding-bottom: 0.4em;background-color: white;}#sk-container-id-2 div.sk-label label {font-family: monospace;font-weight: bold;display: inline-block;line-height: 1.2em;}#sk-container-id-2 div.sk-label-container {text-align: center;}#sk-container-id-2 div.sk-container {/* jupyter's `normalize.less` sets `[hidden] { display: none; }` but bootstrap.min.css set `[hidden] { display: none !important; }` so we also need the `!important` here to be able to override the default hidden behavior on the sphinx rendered scikit-learn.org. See: https://github.com/scikit-learn/scikit-learn/issues/21755 */display: inline-block !important;position: relative;}#sk-container-id-2 div.sk-text-repr-fallback {display: none;}</style><div id=\"sk-container-id-2\" class=\"sk-top-container\"><div class=\"sk-text-repr-fallback\"><pre>GridSearchCV(cv=3,\n",
       "             estimator=XGBRegressor(base_score=None, booster=None,\n",
       "                                    callbacks=None, colsample_bylevel=None,\n",
       "                                    colsample_bynode=None,\n",
       "                                    colsample_bytree=None, device=None,\n",
       "                                    early_stopping_rounds=None,\n",
       "                                    enable_categorical=False,\n",
       "                                    eval_metric=&#x27;rmsle&#x27;, feature_types=None,\n",
       "                                    gamma=None, grow_policy=None,\n",
       "                                    importance_type=None,\n",
       "                                    interaction_constraints=None,\n",
       "                                    learning_rate=Non...\n",
       "                                    max_cat_to_onehot=None, max_delta_step=None,\n",
       "                                    max_depth=None, max_leaves=None,\n",
       "                                    min_child_weight=None, missing=nan,\n",
       "                                    monotone_constraints=None,\n",
       "                                    multi_strategy=None, n_estimators=None,\n",
       "                                    n_jobs=None, num_parallel_tree=None,\n",
       "                                    random_state=None, ...),\n",
       "             param_grid={&#x27;learning_rate&#x27;: [0.01, 0.015], &#x27;max_depth&#x27;: [4, 5],\n",
       "                         &#x27;n_estimators&#x27;: [500, 600, 700]},\n",
       "             scoring=make_scorer(rmsle_scorer), verbose=2)</pre><b>In a Jupyter environment, please rerun this cell to show the HTML representation or trust the notebook. <br />On GitHub, the HTML representation is unable to render, please try loading this page with nbviewer.org.</b></div><div class=\"sk-container\" hidden><div class=\"sk-item sk-dashed-wrapped\"><div class=\"sk-label-container\"><div class=\"sk-label sk-toggleable\"><input class=\"sk-toggleable__control sk-hidden--visually\" id=\"sk-estimator-id-4\" type=\"checkbox\" ><label for=\"sk-estimator-id-4\" class=\"sk-toggleable__label sk-toggleable__label-arrow\">GridSearchCV</label><div class=\"sk-toggleable__content\"><pre>GridSearchCV(cv=3,\n",
       "             estimator=XGBRegressor(base_score=None, booster=None,\n",
       "                                    callbacks=None, colsample_bylevel=None,\n",
       "                                    colsample_bynode=None,\n",
       "                                    colsample_bytree=None, device=None,\n",
       "                                    early_stopping_rounds=None,\n",
       "                                    enable_categorical=False,\n",
       "                                    eval_metric=&#x27;rmsle&#x27;, feature_types=None,\n",
       "                                    gamma=None, grow_policy=None,\n",
       "                                    importance_type=None,\n",
       "                                    interaction_constraints=None,\n",
       "                                    learning_rate=Non...\n",
       "                                    max_cat_to_onehot=None, max_delta_step=None,\n",
       "                                    max_depth=None, max_leaves=None,\n",
       "                                    min_child_weight=None, missing=nan,\n",
       "                                    monotone_constraints=None,\n",
       "                                    multi_strategy=None, n_estimators=None,\n",
       "                                    n_jobs=None, num_parallel_tree=None,\n",
       "                                    random_state=None, ...),\n",
       "             param_grid={&#x27;learning_rate&#x27;: [0.01, 0.015], &#x27;max_depth&#x27;: [4, 5],\n",
       "                         &#x27;n_estimators&#x27;: [500, 600, 700]},\n",
       "             scoring=make_scorer(rmsle_scorer), verbose=2)</pre></div></div></div><div class=\"sk-parallel\"><div class=\"sk-parallel-item\"><div class=\"sk-item\"><div class=\"sk-label-container\"><div class=\"sk-label sk-toggleable\"><input class=\"sk-toggleable__control sk-hidden--visually\" id=\"sk-estimator-id-5\" type=\"checkbox\" ><label for=\"sk-estimator-id-5\" class=\"sk-toggleable__label sk-toggleable__label-arrow\">estimator: XGBRegressor</label><div class=\"sk-toggleable__content\"><pre>XGBRegressor(base_score=None, booster=None, callbacks=None,\n",
       "             colsample_bylevel=None, colsample_bynode=None,\n",
       "             colsample_bytree=None, device=None, early_stopping_rounds=None,\n",
       "             enable_categorical=False, eval_metric=&#x27;rmsle&#x27;, feature_types=None,\n",
       "             gamma=None, grow_policy=None, importance_type=None,\n",
       "             interaction_constraints=None, learning_rate=None, max_bin=None,\n",
       "             max_cat_threshold=None, max_cat_to_onehot=None,\n",
       "             max_delta_step=None, max_depth=None, max_leaves=None,\n",
       "             min_child_weight=None, missing=nan, monotone_constraints=None,\n",
       "             multi_strategy=None, n_estimators=None, n_jobs=None,\n",
       "             num_parallel_tree=None, random_state=None, ...)</pre></div></div></div><div class=\"sk-serial\"><div class=\"sk-item\"><div class=\"sk-estimator sk-toggleable\"><input class=\"sk-toggleable__control sk-hidden--visually\" id=\"sk-estimator-id-6\" type=\"checkbox\" ><label for=\"sk-estimator-id-6\" class=\"sk-toggleable__label sk-toggleable__label-arrow\">XGBRegressor</label><div class=\"sk-toggleable__content\"><pre>XGBRegressor(base_score=None, booster=None, callbacks=None,\n",
       "             colsample_bylevel=None, colsample_bynode=None,\n",
       "             colsample_bytree=None, device=None, early_stopping_rounds=None,\n",
       "             enable_categorical=False, eval_metric=&#x27;rmsle&#x27;, feature_types=None,\n",
       "             gamma=None, grow_policy=None, importance_type=None,\n",
       "             interaction_constraints=None, learning_rate=None, max_bin=None,\n",
       "             max_cat_threshold=None, max_cat_to_onehot=None,\n",
       "             max_delta_step=None, max_depth=None, max_leaves=None,\n",
       "             min_child_weight=None, missing=nan, monotone_constraints=None,\n",
       "             multi_strategy=None, n_estimators=None, n_jobs=None,\n",
       "             num_parallel_tree=None, random_state=None, ...)</pre></div></div></div></div></div></div></div></div></div></div>"
      ],
      "text/plain": [
       "GridSearchCV(cv=3,\n",
       "             estimator=XGBRegressor(base_score=None, booster=None,\n",
       "                                    callbacks=None, colsample_bylevel=None,\n",
       "                                    colsample_bynode=None,\n",
       "                                    colsample_bytree=None, device=None,\n",
       "                                    early_stopping_rounds=None,\n",
       "                                    enable_categorical=False,\n",
       "                                    eval_metric='rmsle', feature_types=None,\n",
       "                                    gamma=None, grow_policy=None,\n",
       "                                    importance_type=None,\n",
       "                                    interaction_constraints=None,\n",
       "                                    learning_rate=Non...\n",
       "                                    max_cat_to_onehot=None, max_delta_step=None,\n",
       "                                    max_depth=None, max_leaves=None,\n",
       "                                    min_child_weight=None, missing=nan,\n",
       "                                    monotone_constraints=None,\n",
       "                                    multi_strategy=None, n_estimators=None,\n",
       "                                    n_jobs=None, num_parallel_tree=None,\n",
       "                                    random_state=None, ...),\n",
       "             param_grid={'learning_rate': [0.01, 0.015], 'max_depth': [4, 5],\n",
       "                         'n_estimators': [500, 600, 700]},\n",
       "             scoring=make_scorer(rmsle_scorer), verbose=2)"
      ]
     },
     "execution_count": 129,
     "metadata": {},
     "output_type": "execute_result"
    }
   ],
   "source": [
    "# Define Search\n",
    "search = GridSearchCV(estimator=regressor, param_grid=param_grid, scoring=rmsle_score, cv=3, verbose=2)\n",
    "\n",
    "# Fit to training\n",
    "search.fit(X_train, y_train)"
   ]
  },
  {
   "cell_type": "code",
   "execution_count": 144,
   "metadata": {},
   "outputs": [
    {
     "name": "stdout",
     "output_type": "stream",
     "text": [
      "The best hyperparameters are  {'learning_rate': 0.01, 'max_depth': 5, 'n_estimators': 500}\n"
     ]
    },
    {
     "data": {
      "text/plain": [
       "['modules/joblib_preprocessing/best_params.joblib']"
      ]
     },
     "execution_count": 144,
     "metadata": {},
     "output_type": "execute_result"
    }
   ],
   "source": [
    "print(\"The best hyperparameters are \",search.best_params_)\n",
    "\n",
    "joblib.dump(search.best_params_, 'modules/joblib_preprocessing/best_params.joblib')"
   ]
  },
  {
   "cell_type": "markdown",
   "metadata": {},
   "source": [
    "Now, can you setup a XGBoost Regressor object using your hyperparameters and fit it?"
   ]
  },
  {
   "cell_type": "code",
   "execution_count": 145,
   "metadata": {
    "_cell_guid": "e7842527-0531-44fa-8ce0-ae4cc3cfd0d7",
    "_uuid": "365f3e96-c7a9-41cf-9c5f-76dbfd46168c",
    "execution": {
     "iopub.execute_input": "2022-10-17T08:51:42.696134Z",
     "iopub.status.busy": "2022-10-17T08:51:42.695498Z",
     "iopub.status.idle": "2022-10-17T08:51:43.901785Z",
     "shell.execute_reply": "2022-10-17T08:51:43.900931Z",
     "shell.execute_reply.started": "2022-10-17T08:51:42.696091Z"
    }
   },
   "outputs": [],
   "source": [
    "best_params = joblib.load('modules/joblib_preprocessing/best_params.joblib')\n",
    "\n",
    "# Redefine Regressor\n",
    "regressor=xgb.XGBRegressor(eval_metric='rmsle', \n",
    "                           learning_rate = best_params['learning_rate'],\n",
    "                           max_depth = best_params['max_depth'],\n",
    "                           n_estimators = best_params['n_estimators'])\n",
    "xgbmodel = regressor.fit(X_train, y_train)"
   ]
  },
  {
   "cell_type": "markdown",
   "metadata": {},
   "source": [
    "Finally, can you run it on your test set?"
   ]
  },
  {
   "cell_type": "code",
   "execution_count": 147,
   "metadata": {},
   "outputs": [],
   "source": [
    "xgbmodel_test_predictions = regressor.predict(X_test)"
   ]
  },
  {
   "cell_type": "code",
   "execution_count": 148,
   "metadata": {},
   "outputs": [],
   "source": [
    "test_data_predicted = X_test.copy()\n",
    "test_data_predicted['SalesPrice'] = xgbmodel_test_predictions\n"
   ]
  },
  {
   "cell_type": "code",
   "execution_count": null,
   "metadata": {},
   "outputs": [],
   "source": [
    "# Can you score your solution offline and see how it does?\n",
    "joblib.dump(test_data_predicted, 'modules/joblib_preprocessing/test_predicted.joblib')"
   ]
  },
  {
   "cell_type": "code",
   "execution_count": 156,
   "metadata": {
    "execution": {
     "iopub.execute_input": "2022-10-17T08:51:44.533388Z",
     "iopub.status.busy": "2022-10-17T08:51:44.533094Z",
     "iopub.status.idle": "2022-10-17T08:51:44.548515Z",
     "shell.execute_reply": "2022-10-17T08:51:44.547390Z",
     "shell.execute_reply.started": "2022-10-17T08:51:44.533360Z"
    }
   },
   "outputs": [
    {
     "name": "stdout",
     "output_type": "stream",
     "text": [
      "The score is 0.14257\n"
     ]
    }
   ],
   "source": [
    "# read in the ground truth file\n",
    "y_true = joblib.load('modules/joblib_preprocessing/y_test.joblib')\n",
    "y_true = pd.Series(data=y_true['data'], name=y_true['columns'])\n",
    "\n",
    "from sklearn.metrics import mean_squared_log_error\n",
    "RMSLE = np.sqrt( mean_squared_log_error(y_true, test_data_predicted['SalesPrice']) )\n",
    "print(\"The score is %.5f\" % RMSLE )"
   ]
  },
  {
   "cell_type": "markdown",
   "metadata": {},
   "source": [
    "Finally, use the below block to prepare your submission"
   ]
  },
  {
   "cell_type": "code",
   "execution_count": 158,
   "metadata": {
    "_cell_guid": "e7842527-0531-44fa-8ce0-ae4cc3cfd0d7",
    "_uuid": "365f3e96-c7a9-41cf-9c5f-76dbfd46168c",
    "execution": {
     "iopub.execute_input": "2022-10-17T08:50:06.964744Z",
     "iopub.status.busy": "2022-10-17T08:50:06.964340Z",
     "iopub.status.idle": "2022-10-17T08:50:06.977852Z",
     "shell.execute_reply": "2022-10-17T08:50:06.976712Z",
     "shell.execute_reply.started": "2022-10-17T08:50:06.964712Z"
    }
   },
   "outputs": [],
   "source": [
    "output = pd.DataFrame({\"Id\":X_test.index, \"SalePrice\": test_data_predicted['SalesPrice']})\n",
    "output.to_csv('data/submission.csv', index=False)"
   ]
  },
  {
   "cell_type": "markdown",
   "metadata": {},
   "source": [
    "### <center style=\"background-color:Gainsboro; width:60%;\">Feature importance</center>\n",
    "Let us also take a very quick look at the feature importance too:"
   ]
  },
  {
   "cell_type": "code",
   "execution_count": 169,
   "metadata": {
    "execution": {
     "iopub.execute_input": "2022-10-17T08:50:06.980369Z",
     "iopub.status.busy": "2022-10-17T08:50:06.979530Z",
     "iopub.status.idle": "2022-10-17T08:50:07.282871Z",
     "shell.execute_reply": "2022-10-17T08:50:07.281929Z",
     "shell.execute_reply.started": "2022-10-17T08:50:06.980309Z"
    }
   },
   "outputs": [
    {
     "data": {
      "image/png": "[encoded data removed]",
      "text/plain": [
       "<Figure size 1200x600 with 1 Axes>"
      ]
     },
     "metadata": {},
     "output_type": "display_data"
    }
   ],
   "source": [
    "from xgboost import plot_importance\n",
    "import matplotlib.pyplot as plt\n",
    "plt.style.use('fivethirtyeight')\n",
    "plt.rcParams.update({'font.size': 16})\n",
    "\n",
    "fig, ax = plt.subplots(figsize=(12,6))\n",
    "plot_importance(regressor, max_num_features=8, ax=ax)\n",
    "plt.show();"
   ]
  },
  {
   "cell_type": "markdown",
   "metadata": {},
   "source": [
    "Where here the `F score` is a measure \"*...based on the number of times a variable is selected for splitting, weighted by the squared improvement to the model as a result of each split, and averaged over all trees*.\" [1] \n",
    "\n",
    "Note that these importances are susceptible to small changes in the training data, and it is much better to make use of [\"GPU accelerated SHAP values\"](https://www.kaggle.com/carlmcbrideellis/gpu-accelerated-shap-values-jane-street-example), incorporated with version 1.3 of XGBoost.\n",
    "\n",
    "Can you follow the above guide use SHAP values instead of F Score?"
   ]
  },
  {
   "cell_type": "code",
   "execution_count": 177,
   "metadata": {},
   "outputs": [
    {
     "name": "stderr",
     "output_type": "stream",
     "text": [
      "'conda' is not recognized as an internal or external command,\n",
      "operable program or batch file.\n"
     ]
    }
   ],
   "source": [
    "# !pip install shap --no-build-isolation\n",
    "!conda install -c conda-forge shap"
   ]
  },
  {
   "cell_type": "code",
   "execution_count": null,
   "metadata": {},
   "outputs": [],
   "source": [
    "import shap\n",
    "n_trees = 500\n",
    "dmat = xgb.DMatrix(X_train, y_train)\n",
    "bst  = xgb.train({'tree_method': 'hist', \"device\": \"cuda\"}, dmat)\n",
    "\n",
    "# Make sure GPU prediction is enabled\n",
    "bst.set_param({\"predictor\": \"gpu_predictor\"})\n",
    "shap_values = bst.predict(dmat, pred_contribs=True)\n",
    "# and plot\n",
    "shap.summary_plot(shap_values[:,:-1], X_train)"
   ]
  },
  {
   "cell_type": "code",
   "execution_count": null,
   "metadata": {},
   "outputs": [],
   "source": [
    "# Compute the shap interactions\n",
    "shap_interactions = bst.predict(dmat, pred_interactions=True)\n",
    "\n",
    "\n",
    "# and plot\n",
    "shap.summary_plot(shap_interactions[:,:-1,:-1], X_train)"
   ]
  },
  {
   "cell_type": "markdown",
   "metadata": {},
   "source": [
    "### <center style=\"background-color:Gainsboro; width:60%;\">Appendix: The RMSLE evaluation metric</center>\n",
    "From the competition [evaluation page](https://www.kaggle.com/c/house-prices-advanced-regression-techniques/overview/evaluation) we see that the metric we are using is the root mean squared logarithmic error (RMSLE), which is given by\n",
    "\n",
    "$$ {\\mathrm {RMSLE}}\\,(y, \\hat y) = \\sqrt{ \\frac{1}{n} \\sum_{i=1}^n \\left(\\log (1 + \\hat{y}_i) - \\log (1 + y_i)\\right)^2} $$\n",
    "\n",
    "where $\\hat{y}_i$ is the predicted value of the target for instance $i$, and $y_i$\n",
    "is the actual value of the target for instance $i$.\n",
    "\n",
    "It is important to note that, unlike the RMSE, the RMSLE is asymmetric; penalizing much more the underestimated predictions than the overestimated predictions. For example, say the correct value is $y_i = 1000$, then underestimating by 600 is almost twice as bad as overestimating by 600:"
   ]
  },
  {
   "cell_type": "code",
   "execution_count": 160,
   "metadata": {
    "execution": {
     "iopub.execute_input": "2022-10-17T08:50:07.284616Z",
     "iopub.status.busy": "2022-10-17T08:50:07.284340Z",
     "iopub.status.idle": "2022-10-17T08:50:07.290854Z",
     "shell.execute_reply": "2022-10-17T08:50:07.289987Z",
     "shell.execute_reply.started": "2022-10-17T08:50:07.284584Z"
    }
   },
   "outputs": [
    {
     "name": "stdout",
     "output_type": "stream",
     "text": [
      "The RMSLE score is 0.915\n",
      "The RMSLE score is 0.470\n"
     ]
    }
   ],
   "source": [
    "def RSLE(y_hat,y):\n",
    "    return np.sqrt((np.log1p(y_hat) - np.log1p(y))**2)\n",
    "\n",
    "print(\"The RMSLE score is %.3f\" % RSLE( 400,1000) )\n",
    "print(\"The RMSLE score is %.3f\" % RSLE(1600,1000) )"
   ]
  },
  {
   "cell_type": "markdown",
   "metadata": {},
   "source": [
    "The asymmetry arises because \n",
    "\n",
    "$$ \\log (1 + \\hat{y}_i) - \\log (1 + y_i) =  \\log \\left( \\frac{1 + \\hat{y}_i}{1 + y_i} \\right) $$\n",
    "\n",
    "so we are essentially looking at ratios, rather than differences such as is the case of the RMSE. We can see the form that this asymmetry takes in the following plot, again using 1000 as our ground truth value:"
   ]
  },
  {
   "cell_type": "code",
   "execution_count": 161,
   "metadata": {
    "_kg_hide-input": true,
    "execution": {
     "iopub.execute_input": "2022-10-17T08:50:07.292446Z",
     "iopub.status.busy": "2022-10-17T08:50:07.292191Z",
     "iopub.status.idle": "2022-10-17T08:50:07.467273Z",
     "shell.execute_reply": "2022-10-17T08:50:07.466163Z",
     "shell.execute_reply.started": "2022-10-17T08:50:07.292407Z"
    }
   },
   "outputs": [
    {
     "data": {
      "image/png": "[encoded data removed]",
      "text/plain": [
       "<Figure size 700x400 with 1 Axes>"
      ]
     },
     "metadata": {},
     "output_type": "display_data"
    }
   ],
   "source": [
    "plt.rcParams[\"figure.figsize\"] = (7, 4)\n",
    "x = np.linspace(5,4000,100)\n",
    "plt.plot(x, RSLE(x,1000))\n",
    "plt.xlabel('prediction')\n",
    "plt.ylabel('RMSLE')\n",
    "plt.show()"
   ]
  }
 ],
 "metadata": {
  "kernelspec": {
   "display_name": "Python 3 (ipykernel)",
   "language": "python",
   "name": "python3"
  },
  "language_info": {
   "codemirror_mode": {
    "name": "ipython",
    "version": 3
   },
   "file_extension": ".py",
   "mimetype": "text/x-python",
   "name": "python",
   "nbconvert_exporter": "python",
   "pygments_lexer": "ipython3",
   "version": "3.12.1"
  }
 },
 "nbformat": 4,
 "nbformat_minor": 4
}
